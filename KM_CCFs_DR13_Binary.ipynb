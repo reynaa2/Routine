{
 "cells": [
  {
   "cell_type": "code",
   "execution_count": 1,
   "metadata": {
    "collapsed": true
   },
   "outputs": [],
   "source": [
    "import numpy as np\n",
    "import apogee.tools.read as apread\n",
    "from matplotlib import pyplot as plt\n",
    "import pylab as pl\n",
    "import csv"
   ]
  },
  {
   "cell_type": "code",
   "execution_count": 2,
   "metadata": {
    "collapsed": true
   },
   "outputs": [],
   "source": [
    "dr13Apo = np.loadtxt('/Volumes/coveydata-1/APOGEE_Spectra/APOGEE2_DR13/master_apStarList_DR13.lis',skiprows=1,usecols=[3],dtype=str)\n",
    "dr13Loc = np.loadtxt('/Volumes/coveydata-1/APOGEE_Spectra/APOGEE2_DR13/master_apStarList_DR13.lis',skiprows=1,usecols=[4],dtype=str)\n",
    "\n",
    "dr13apo = []\n",
    "dr13loc = []\n",
    "for i in range(len(dr13Loc)):\n",
    "    b = dr13Apo[i][2:-1]\n",
    "    c = dr13Loc[i][2:-1]\n",
    "    dr13apo.append(b)\n",
    "    dr13loc.append(c)\n",
    "\n",
    "dr13apog = set(dr13apo)\n",
    "dr13loca = set(dr13Loc)"
   ]
  },
  {
   "cell_type": "code",
   "execution_count": 21,
   "metadata": {},
   "outputs": [
    {
     "name": "stdout",
     "output_type": "stream",
     "text": [
      "579467\n"
     ]
    }
   ],
   "source": [
    "LocID = []\n",
    "ApogID = []\n",
    "\n",
    "with open('All Visits4.csv','r') as files: \n",
    "    read = csv.reader(files,delimiter = '\\t')\n",
    "    next(read,None)\n",
    "    for Row in read:\n",
    "        o = Row[0]\n",
    "        n = Row[1]\n",
    "        LocID.append(o)\n",
    "        ApogID.append(n)\n",
    "print(len(LocID))"
   ]
  },
  {
   "cell_type": "code",
   "execution_count": 3,
   "metadata": {
    "collapsed": true
   },
   "outputs": [],
   "source": [
    "apogeeIDs = []\n",
    "\n",
    "with open('modified_likely_binaries.csv','r') as csvfile:\n",
    "    reader = csv.reader(csvfile,delimiter='\\t')\n",
    "    for rows in reader:\n",
    "        p = (rows[0][6:23])\n",
    "        apogeeIDs.append(p)\n",
    "KC_apoID = set(apogeeIDs) "
   ]
  },
  {
   "cell_type": "code",
   "execution_count": 24,
   "metadata": {},
   "outputs": [],
   "source": [
    "apogID = []\n",
    "zero = []\n",
    "one = []\n",
    "with open('smallRound_2Binary_Results_EVP1-10_t2','r') as filename2:\n",
    "    reader2 = csv.reader(filename2, delimiter=',')\n",
    "    next(reader2,None)\n",
    "    for rows in reader2:\n",
    "        #print(rows[0])\n",
    "        g = (rows[0])\n",
    "        h = rows[1]\n",
    "        i = rows[2]\n",
    "        apogID.append(g)\n",
    "        zero.append(h)\n",
    "        one.append(i)\n",
    "#KM_apogID = set(apogID)\n",
    "#print(apogID[0])\n",
    "#print(KM_apogID) \n",
    "#print(KM_apogID)\n",
    "#print(len(KM_apogID))"
   ]
  },
  {
   "cell_type": "code",
   "execution_count": 32,
   "metadata": {},
   "outputs": [
    {
     "name": "stdout",
     "output_type": "stream",
     "text": [
      "2M00002509+7040316\n",
      "0\n"
     ]
    }
   ],
   "source": [
    "APOGEE_IDs = []\n",
    "LOCATION_IDs= []\n",
    "print(apogID[0])\n",
    "for i in range(len(LocID)):\n",
    "    if apogID in ApogID:\n",
    "        #print(i)\n",
    "        APOGEE_IDs.append(apogID[i])\n",
    "        LOCATION_IDs.append(dr13loc[i])\n",
    "print(len(LOCATION_IDs))"
   ]
  },
  {
   "cell_type": "code",
   "execution_count": 12,
   "metadata": {},
   "outputs": [],
   "source": [
    "Apo_IDs = []\n",
    "Loc_IDs = []\n",
    "for i in range(len(apogID)):\n",
    "    if apogID[i] in dr13apo:\n",
    "        Apo_IDs.append(apogID[i])\n",
    "        Loc_IDs.append(dr13loc[i])"
   ]
  },
  {
   "cell_type": "code",
   "execution_count": 13,
   "metadata": {},
   "outputs": [
    {
     "name": "stdout",
     "output_type": "stream",
     "text": [
      "4668\n",
      "4668\n"
     ]
    }
   ],
   "source": [
    "print(len(Apo_IDs))\n",
    "print(len(Loc_IDs))\n",
    "#print(Apo_IDs)\n",
    "#print(Loc_IDs)"
   ]
  },
  {
   "cell_type": "code",
   "execution_count": 14,
   "metadata": {},
   "outputs": [],
   "source": [
    "with open('SmallRound_2Binary_with_locationIDs.csv','w') as filename:\n",
    "    names = ['Location_ID', 'Apogee_ID','0','1']\n",
    "    writer = csv.DictWriter(filename, delimiter=',',fieldnames=names)\n",
    "    writer.writeheader()\n",
    "    for i in range(len(apogID)):\n",
    "        writer.writerow({'Location_ID':Loc_IDs[i] ,'Apogee_ID':Apo_IDs[i],'0': zero[i] ,'1':one[i]})"
   ]
  },
  {
   "cell_type": "code",
   "execution_count": 15,
   "metadata": {},
   "outputs": [
    {
     "name": "stdout",
     "output_type": "stream",
     "text": [
      "\r",
      "Downloading file apStar-r6-2M00002509+7040316.fits ...\r"
     ]
    },
    {
     "ename": "OSError",
     "evalue": "File apStar-r6-2M00002509+7040316.fits does not appear to exist on the server (as http://data.sdss.org/sas/dr13/apogee/spectro/redux/r6/stars/apo1m/4424/apStar-r6-2M00002509+7040316.fits) ...",
     "output_type": "error",
     "traceback": [
      "\u001b[0;31m---------------------------------------------------------------------------\u001b[0m",
      "\u001b[0;31mCalledProcessError\u001b[0m                        Traceback (most recent call last)",
      "\u001b[0;32m/Users/reynaa/anaconda/lib/python3.6/site-packages/apogee-1.-py3.6.egg/apogee/tools/download.py\u001b[0m in \u001b[0;36m_download_file\u001b[0;34m(downloadPath, filePath, dr, verbose, spider)\u001b[0m\n\u001b[1;32m    594\u001b[0m             \u001b[0;32mif\u001b[0m \u001b[0mspider\u001b[0m\u001b[0;34m:\u001b[0m \u001b[0mcmd\u001b[0m\u001b[0;34m.\u001b[0m\u001b[0mappend\u001b[0m\u001b[0;34m(\u001b[0m\u001b[0;34m'--spider'\u001b[0m\u001b[0;34m)\u001b[0m\u001b[0;34m\u001b[0m\u001b[0m\n\u001b[0;32m--> 595\u001b[0;31m             \u001b[0msubprocess\u001b[0m\u001b[0;34m.\u001b[0m\u001b[0mcheck_call\u001b[0m\u001b[0;34m(\u001b[0m\u001b[0mcmd\u001b[0m\u001b[0;34m)\u001b[0m\u001b[0;34m\u001b[0m\u001b[0m\n\u001b[0m\u001b[1;32m    596\u001b[0m             \u001b[0;32mif\u001b[0m \u001b[0;32mnot\u001b[0m \u001b[0mspider\u001b[0m\u001b[0;34m:\u001b[0m \u001b[0mshutil\u001b[0m\u001b[0;34m.\u001b[0m\u001b[0mmove\u001b[0m\u001b[0;34m(\u001b[0m\u001b[0mtmp_savefilename\u001b[0m\u001b[0;34m,\u001b[0m\u001b[0mfilePath\u001b[0m\u001b[0;34m)\u001b[0m\u001b[0;34m\u001b[0m\u001b[0m\n",
      "\u001b[0;32m/Users/reynaa/anaconda/lib/python3.6/subprocess.py\u001b[0m in \u001b[0;36mcheck_call\u001b[0;34m(*popenargs, **kwargs)\u001b[0m\n\u001b[1;32m    290\u001b[0m             \u001b[0mcmd\u001b[0m \u001b[0;34m=\u001b[0m \u001b[0mpopenargs\u001b[0m\u001b[0;34m[\u001b[0m\u001b[0;36m0\u001b[0m\u001b[0;34m]\u001b[0m\u001b[0;34m\u001b[0m\u001b[0m\n\u001b[0;32m--> 291\u001b[0;31m         \u001b[0;32mraise\u001b[0m \u001b[0mCalledProcessError\u001b[0m\u001b[0;34m(\u001b[0m\u001b[0mretcode\u001b[0m\u001b[0;34m,\u001b[0m \u001b[0mcmd\u001b[0m\u001b[0;34m)\u001b[0m\u001b[0;34m\u001b[0m\u001b[0m\n\u001b[0m\u001b[1;32m    292\u001b[0m     \u001b[0;32mreturn\u001b[0m \u001b[0;36m0\u001b[0m\u001b[0;34m\u001b[0m\u001b[0m\n",
      "\u001b[0;31mCalledProcessError\u001b[0m: Command '['wget', 'http://data.sdss.org/sas/dr13/apogee/spectro/redux/r6/stars/apo1m/4424/apStar-r6-2M00002509+7040316.fits', '-O', '/var/folders/43/yf2x9xms1c19k6hdhd4cd488hgsrbn/T/tmplhgzl8en', '--read-timeout=10', '--tries=3', '-q']' returned non-zero exit status 5.",
      "\nDuring handling of the above exception, another exception occurred:\n",
      "\u001b[0;31mOSError\u001b[0m                                   Traceback (most recent call last)",
      "\u001b[0;32m<ipython-input-15-e260ae523eb0>\u001b[0m in \u001b[0;36m<module>\u001b[0;34m()\u001b[0m\n\u001b[1;32m      4\u001b[0m \u001b[0;34m\u001b[0m\u001b[0m\n\u001b[1;32m      5\u001b[0m     \u001b[0;32mif\u001b[0m \u001b[0mlocationID\u001b[0m \u001b[0;34m!=\u001b[0m \u001b[0;36m1\u001b[0m\u001b[0;34m:\u001b[0m\u001b[0;34m\u001b[0m\u001b[0m\n\u001b[0;32m----> 6\u001b[0;31m         \u001b[0mheader\u001b[0m \u001b[0;34m=\u001b[0m \u001b[0mapread\u001b[0m\u001b[0;34m.\u001b[0m\u001b[0mapStar\u001b[0m\u001b[0;34m(\u001b[0m\u001b[0mlocationID\u001b[0m\u001b[0;34m,\u001b[0m \u001b[0mapogeeID\u001b[0m\u001b[0;34m,\u001b[0m \u001b[0mext\u001b[0m\u001b[0;34m=\u001b[0m\u001b[0;36m0\u001b[0m\u001b[0;34m,\u001b[0m \u001b[0mheader\u001b[0m\u001b[0;34m=\u001b[0m\u001b[0;32mTrue\u001b[0m\u001b[0;34m)\u001b[0m\u001b[0;34m\u001b[0m\u001b[0m\n\u001b[0m\u001b[1;32m      7\u001b[0m         \u001b[0mData\u001b[0m \u001b[0;34m=\u001b[0m \u001b[0mapread\u001b[0m\u001b[0;34m.\u001b[0m\u001b[0mapStar\u001b[0m\u001b[0;34m(\u001b[0m\u001b[0mlocationID\u001b[0m\u001b[0;34m,\u001b[0m \u001b[0mapogeeID\u001b[0m\u001b[0;34m,\u001b[0m \u001b[0mext\u001b[0m\u001b[0;34m=\u001b[0m\u001b[0;36m9\u001b[0m\u001b[0;34m,\u001b[0m \u001b[0mheader\u001b[0m\u001b[0;34m=\u001b[0m\u001b[0;32mFalse\u001b[0m\u001b[0;34m)\u001b[0m\u001b[0;34m\u001b[0m\u001b[0m\n\u001b[1;32m      8\u001b[0m \u001b[0;34m\u001b[0m\u001b[0m\n",
      "\u001b[0;32m/Users/reynaa/anaconda/lib/python3.6/site-packages/apogee-1.-py3.6.egg/apogee/tools/read.py\u001b[0m in \u001b[0;36moutput_wrapper\u001b[0;34m(*args, **kwargs)\u001b[0m\n\u001b[1;32m     66\u001b[0m     \u001b[0;34m@\u001b[0m\u001b[0mwraps\u001b[0m\u001b[0;34m(\u001b[0m\u001b[0mfunc\u001b[0m\u001b[0;34m)\u001b[0m\u001b[0;34m\u001b[0m\u001b[0m\n\u001b[1;32m     67\u001b[0m     \u001b[0;32mdef\u001b[0m \u001b[0moutput_wrapper\u001b[0m\u001b[0;34m(\u001b[0m\u001b[0;34m*\u001b[0m\u001b[0margs\u001b[0m\u001b[0;34m,\u001b[0m\u001b[0;34m**\u001b[0m\u001b[0mkwargs\u001b[0m\u001b[0;34m)\u001b[0m\u001b[0;34m:\u001b[0m\u001b[0;34m\u001b[0m\u001b[0m\n\u001b[0;32m---> 68\u001b[0;31m         \u001b[0mout\u001b[0m\u001b[0;34m=\u001b[0m \u001b[0mfunc\u001b[0m\u001b[0;34m(\u001b[0m\u001b[0;34m*\u001b[0m\u001b[0margs\u001b[0m\u001b[0;34m,\u001b[0m\u001b[0;34m**\u001b[0m\u001b[0mkwargs\u001b[0m\u001b[0;34m)\u001b[0m\u001b[0;34m\u001b[0m\u001b[0m\n\u001b[0m\u001b[1;32m     69\u001b[0m         \u001b[0;32mif\u001b[0m \u001b[0mkwargs\u001b[0m\u001b[0;34m.\u001b[0m\u001b[0mget\u001b[0m\u001b[0;34m(\u001b[0m\u001b[0;34m'header'\u001b[0m\u001b[0;34m,\u001b[0m\u001b[0;32mTrue\u001b[0m\u001b[0;34m)\u001b[0m\u001b[0;34m:\u001b[0m\u001b[0;34m\u001b[0m\u001b[0m\n\u001b[1;32m     70\u001b[0m             \u001b[0mout\u001b[0m\u001b[0;34m,\u001b[0m \u001b[0mhdr\u001b[0m\u001b[0;34m=\u001b[0m \u001b[0mout\u001b[0m\u001b[0;34m\u001b[0m\u001b[0m\n",
      "\u001b[0;32m/Users/reynaa/anaconda/lib/python3.6/site-packages/apogee-1.-py3.6.egg/apogee/tools/read.py\u001b[0m in \u001b[0;36mapStar\u001b[0;34m(loc_id, apogee_id, ext, dr, header, aspcapWavegrid)\u001b[0m\n\u001b[1;32m    609\u001b[0m     \u001b[0mfilePath\u001b[0m\u001b[0;34m=\u001b[0m \u001b[0mpath\u001b[0m\u001b[0;34m.\u001b[0m\u001b[0mapStarPath\u001b[0m\u001b[0;34m(\u001b[0m\u001b[0mloc_id\u001b[0m\u001b[0;34m,\u001b[0m\u001b[0mapogee_id\u001b[0m\u001b[0;34m,\u001b[0m\u001b[0mdr\u001b[0m\u001b[0;34m=\u001b[0m\u001b[0mdr\u001b[0m\u001b[0;34m)\u001b[0m\u001b[0;34m\u001b[0m\u001b[0m\n\u001b[1;32m    610\u001b[0m     \u001b[0;32mif\u001b[0m \u001b[0;32mnot\u001b[0m \u001b[0mos\u001b[0m\u001b[0;34m.\u001b[0m\u001b[0mpath\u001b[0m\u001b[0;34m.\u001b[0m\u001b[0mexists\u001b[0m\u001b[0;34m(\u001b[0m\u001b[0mfilePath\u001b[0m\u001b[0;34m)\u001b[0m\u001b[0;34m:\u001b[0m\u001b[0;34m\u001b[0m\u001b[0m\n\u001b[0;32m--> 611\u001b[0;31m         \u001b[0mdownload\u001b[0m\u001b[0;34m.\u001b[0m\u001b[0mapStar\u001b[0m\u001b[0;34m(\u001b[0m\u001b[0mloc_id\u001b[0m\u001b[0;34m,\u001b[0m\u001b[0mapogee_id\u001b[0m\u001b[0;34m,\u001b[0m\u001b[0mdr\u001b[0m\u001b[0;34m=\u001b[0m\u001b[0mdr\u001b[0m\u001b[0;34m)\u001b[0m\u001b[0;34m\u001b[0m\u001b[0m\n\u001b[0m\u001b[1;32m    612\u001b[0m     \u001b[0mdata\u001b[0m\u001b[0;34m=\u001b[0m \u001b[0mfitsio\u001b[0m\u001b[0;34m.\u001b[0m\u001b[0mread\u001b[0m\u001b[0;34m(\u001b[0m\u001b[0mfilePath\u001b[0m\u001b[0;34m,\u001b[0m\u001b[0mext\u001b[0m\u001b[0;34m,\u001b[0m\u001b[0mheader\u001b[0m\u001b[0;34m=\u001b[0m\u001b[0mheader\u001b[0m\u001b[0;34m)\u001b[0m\u001b[0;34m\u001b[0m\u001b[0m\n\u001b[1;32m    613\u001b[0m     \u001b[0;32mreturn\u001b[0m \u001b[0mdata\u001b[0m\u001b[0;34m\u001b[0m\u001b[0m\n",
      "\u001b[0;32m/Users/reynaa/anaconda/lib/python3.6/site-packages/apogee-1.-py3.6.egg/apogee/tools/download.py\u001b[0m in \u001b[0;36mapStar\u001b[0;34m(loc_id, apogee_id, dr)\u001b[0m\n\u001b[1;32m    172\u001b[0m                                                 _dr_string(dr)),\n\u001b[1;32m    173\u001b[0m                                    _base_url(dr=dr))\n\u001b[0;32m--> 174\u001b[0;31m     \u001b[0m_download_file\u001b[0m\u001b[0;34m(\u001b[0m\u001b[0mdownloadPath\u001b[0m\u001b[0;34m,\u001b[0m\u001b[0mfilePath\u001b[0m\u001b[0;34m,\u001b[0m\u001b[0mdr\u001b[0m\u001b[0;34m)\u001b[0m\u001b[0;34m\u001b[0m\u001b[0m\n\u001b[0m\u001b[1;32m    175\u001b[0m     \u001b[0;32mreturn\u001b[0m \u001b[0;32mNone\u001b[0m\u001b[0;34m\u001b[0m\u001b[0m\n\u001b[1;32m    176\u001b[0m \u001b[0;34m\u001b[0m\u001b[0m\n",
      "\u001b[0;32m/Users/reynaa/anaconda/lib/python3.6/site-packages/apogee-1.-py3.6.egg/apogee/tools/download.py\u001b[0m in \u001b[0;36m_download_file\u001b[0;34m(downloadPath, filePath, dr, verbose, spider)\u001b[0m\n\u001b[1;32m    602\u001b[0m                 \u001b[0;32mraise\u001b[0m\u001b[0;34m\u001b[0m\u001b[0m\n\u001b[1;32m    603\u001b[0m             \u001b[0;32melif\u001b[0m \u001b[0mntries\u001b[0m \u001b[0;34m>\u001b[0m \u001b[0m_MAX_NTRIES\u001b[0m\u001b[0;34m:\u001b[0m\u001b[0;34m\u001b[0m\u001b[0m\n\u001b[0;32m--> 604\u001b[0;31m                 \u001b[0;32mraise\u001b[0m \u001b[0mIOError\u001b[0m\u001b[0;34m(\u001b[0m\u001b[0;34m'File %s does not appear to exist on the server (as %s) ...'\u001b[0m \u001b[0;34m%\u001b[0m \u001b[0;34m(\u001b[0m\u001b[0mos\u001b[0m\u001b[0;34m.\u001b[0m\u001b[0mpath\u001b[0m\u001b[0;34m.\u001b[0m\u001b[0mbasename\u001b[0m\u001b[0;34m(\u001b[0m\u001b[0mfilePath\u001b[0m\u001b[0;34m)\u001b[0m\u001b[0;34m,\u001b[0m\u001b[0mdownloadPath\u001b[0m\u001b[0;34m)\u001b[0m\u001b[0;34m)\u001b[0m\u001b[0;34m\u001b[0m\u001b[0m\n\u001b[0m\u001b[1;32m    605\u001b[0m             \u001b[0;32melif\u001b[0m \u001b[0;32mnot\u001b[0m \u001b[0;34m'exit status 4'\u001b[0m \u001b[0;32min\u001b[0m \u001b[0mstr\u001b[0m\u001b[0;34m(\u001b[0m\u001b[0me\u001b[0m\u001b[0;34m)\u001b[0m\u001b[0;34m:\u001b[0m\u001b[0;34m\u001b[0m\u001b[0m\n\u001b[1;32m    606\u001b[0m                 \u001b[0minterrupted\u001b[0m\u001b[0;34m=\u001b[0m \u001b[0;32mTrue\u001b[0m\u001b[0;34m\u001b[0m\u001b[0m\n",
      "\u001b[0;31mOSError\u001b[0m: File apStar-r6-2M00002509+7040316.fits does not appear to exist on the server (as http://data.sdss.org/sas/dr13/apogee/spectro/redux/r6/stars/apo1m/4424/apStar-r6-2M00002509+7040316.fits) ..."
     ]
    }
   ],
   "source": [
    "for i in range(len(Loc_IDs)):\n",
    "    locationID = Loc_IDs[i]\n",
    "    apogeeID = Apo_IDs[i]\n",
    "    \n",
    "    if locationID != 1:\n",
    "        header = apread.apStar(locationID, apogeeID, ext=0, header=True)\n",
    "        Data = apread.apStar(locationID, apogeeID, ext=9, header=False)\n",
    "\n",
    "        nvisits = header[1]['NVISITS']\n",
    "        plt.figure(figsize=(10,10))\n",
    "\n",
    "        for visit in range(0, nvisits):\n",
    "            snr = header[1]['SNRVIS'+str(visit+1)]\n",
    "            if (nvisits != 1):\n",
    "                CCF = Data['CCF'][0][2+ visit]\n",
    "            else:\n",
    "                CCF = Data['CCF'][0]\n",
    "\n",
    "            plt.plot(CCF + visit,label= 'Visit: '+str(1+visit) +'  and '+ 'SNR: '+ str(snr))\n",
    "            plt.xlabel('CCF Lag',fontsize=15)\n",
    "            plt.ylabel('$\\widehat{CCF}$ Units', fontsize=15)\n",
    "            plt.title(' All Visits for '+ str(apogeeID),fontsize=16)\n",
    "            pl.legend(loc='lower left')\n",
    "            plt.savefig('KM_BStar_'+str(locationID)+'_'+str(apogeeID)+'.png',dpi=900)\n",
    "    plt.close('all')"
   ]
  },
  {
   "cell_type": "code",
   "execution_count": null,
   "metadata": {},
   "outputs": [],
   "source": [
    "match = KM_apogID.intersection(dr13apog)\n",
    "print(len(match))"
   ]
  },
  {
   "cell_type": "code",
   "execution_count": null,
   "metadata": {},
   "outputs": [],
   "source": [
    "true_binary = KC_apoID.intersection(KM_apogID)\n",
    "print(true_binary)"
   ]
  },
  {
   "cell_type": "code",
   "execution_count": null,
   "metadata": {},
   "outputs": [],
   "source": [
    "indxs = [i for i, item in enumerate(dr13apog) if item in KM_apogID]\n",
    "print(len(indxs))\n",
    "\n",
    "LocationIDs = []\n",
    "ApogeeIDs = []\n",
    "\n",
    "for i in range(len(indxs)):\n",
    "    d = int(dr13loc[indxs[i]])\n",
    "    e = dr13apo[indxs[i]]\n",
    "    LocationIDs.append(d)\n",
    "    ApogeeIDs.append(e)"
   ]
  },
  {
   "cell_type": "code",
   "execution_count": null,
   "metadata": {},
   "outputs": [],
   "source": [
    "check = KM_apogID.intersection(ApogeeIDs)\n",
    "print(len(check))"
   ]
  },
  {
   "cell_type": "code",
   "execution_count": null,
   "metadata": {
    "collapsed": true
   },
   "outputs": [],
   "source": []
  }
 ],
 "metadata": {
  "kernelspec": {
   "display_name": "Python 3",
   "language": "python",
   "name": "python3"
  },
  "language_info": {
   "codemirror_mode": {
    "name": "ipython",
    "version": 3
   },
   "file_extension": ".py",
   "mimetype": "text/x-python",
   "name": "python",
   "nbconvert_exporter": "python",
   "pygments_lexer": "ipython3",
   "version": "3.6.1"
  }
 },
 "nbformat": 4,
 "nbformat_minor": 2
}
