{
 "cells": [
  {
   "cell_type": "code",
   "execution_count": 2,
   "metadata": {
    "collapsed": true
   },
   "outputs": [],
   "source": [
    "import numpy as np\n",
    "import apogee.tools.read as apread\n",
    "from matplotlib import pyplot as plt\n",
    "import pylab as pl"
   ]
  },
  {
   "cell_type": "code",
   "execution_count": 3,
   "metadata": {
    "collapsed": true
   },
   "outputs": [],
   "source": [
    "from apogee.tools import bitmask\n",
    "from astropy.io import fits"
   ]
  },
  {
   "cell_type": "code",
   "execution_count": 4,
   "metadata": {
    "collapsed": true
   },
   "outputs": [],
   "source": [
    "allStar = apread.allStar(rmcommissioning=True,main=False,ak=True, akvers = 'targ', adddist=False)"
   ]
  },
  {
   "cell_type": "code",
   "execution_count": 5,
   "metadata": {},
   "outputs": [
    {
     "name": "stdout",
     "output_type": "stream",
     "text": [
      "[False False False ..., False False False]\n",
      "155632\n"
     ]
    }
   ],
   "source": [
    "mdwarf_indx = bitmask.bit_set(19,allStar['APOGEE_TARGET1'])\n",
    "print(mdwarf_indx)\n",
    "\n",
    "mdwarf_index = []\n",
    "for z in range(len(mdwarf_indx)):\n",
    "    b = mdwarf_indx[z]*1\n",
    "    mdwarf_index.append(b)\n",
    "#print(mdwarf_index)\n",
    "from collections import Counter\n",
    "Counter(mdwarf_index)\n",
    "print(len(mdwarf_index))"
   ]
  },
  {
   "cell_type": "code",
   "execution_count": 6,
   "metadata": {},
   "outputs": [
    {
     "data": {
      "text/plain": [
       "Counter({False: 154882, True: 750})"
      ]
     },
     "execution_count": 6,
     "metadata": {},
     "output_type": "execute_result"
    }
   ],
   "source": [
    "from collections import Counter\n",
    "Counter(mdwarf_indx)"
   ]
  },
  {
   "cell_type": "code",
   "execution_count": 7,
   "metadata": {
    "collapsed": true
   },
   "outputs": [],
   "source": [
    "locationIDs = allStar['LOCATION_ID']\n",
    "apogeeIDs = allStar['APOGEE_ID']\n",
    "J_filter = allStar['J']\n",
    "J_filterr = allStar['J_ERR']\n",
    "H_filter = allStar['H']\n",
    "H_filterr = allStar['H_ERR']\n",
    "K_filter = allStar['K']\n",
    "K_filterr = allStar['K_ERR']\n",
    "SNRs = allStar['SNR']\n",
    "WISE_4_5 = allStar['WISE_4_5']"
   ]
  },
  {
   "cell_type": "code",
   "execution_count": 8,
   "metadata": {
    "collapsed": true
   },
   "outputs": [],
   "source": [
    "location_IDs = []\n",
    "apogee_IDs = []\n",
    "J = []\n",
    "J_err = []\n",
    "H = []\n",
    "H_err = []\n",
    "K = []\n",
    "K_err = []\n",
    "SNR = []\n",
    "wise = []\n",
    "\n",
    "\n",
    "for i in range(len(mdwarf_index)):\n",
    "    if mdwarf_index[i] == 1:\n",
    "        l = locationIDs[i]\n",
    "        a = apogeeIDs[i]\n",
    "        j = J_filter[i]\n",
    "        h = H_filter[i]\n",
    "        k = K_filter[i]\n",
    "        j_err = J_filterr[i]\n",
    "        h_err = H_filterr[i]\n",
    "        k_err = K_filterr[i]\n",
    "        s = SNRs[i]\n",
    "        w = WISE_4_5[i]\n",
    "        location_IDs.append(l)\n",
    "        apogee_IDs.append(a)\n",
    "        J.append(j)\n",
    "        H.append(h)\n",
    "        K.append(k)\n",
    "        J_err.append(j_err)\n",
    "        H_err.append(h_err)\n",
    "        K_err.append(k_err)\n",
    "        SNR.append(s)\n",
    "        wise.append(w)"
   ]
  },
  {
   "cell_type": "code",
   "execution_count": 9,
   "metadata": {},
   "outputs": [
    {
     "name": "stdout",
     "output_type": "stream",
     "text": [
      "4476 b'2M00444820+1830403' -9999.99\n",
      "4514 b'2M13085124-0131075' -9999.99\n",
      "4475 b'2M23200703+1150071' -9999.99\n"
     ]
    }
   ],
   "source": [
    "print(location_IDs[34], apogee_IDs[34], wise[34])\n",
    "print(location_IDs[450], apogee_IDs[450],wise[450])\n",
    "print(location_IDs[738], apogee_IDs[738], wise[738])\n"
   ]
  },
  {
   "cell_type": "code",
   "execution_count": 10,
   "metadata": {},
   "outputs": [
    {
     "name": "stdout",
     "output_type": "stream",
     "text": [
      "658\n",
      "658\n",
      "658\n"
     ]
    }
   ],
   "source": [
    "WISE = []\n",
    "J_new = []\n",
    "H_new = []\n",
    "for i in range(len(wise)):\n",
    "    if wise[i] != wise[34]:\n",
    "        WISE.append(wise[i])\n",
    "        J_new.append(J[i])\n",
    "        H_new.append(H[i])\n",
    "print(len(WISE))\n",
    "print(len(J_new))\n",
    "print(len(H_new))"
   ]
  },
  {
   "cell_type": "code",
   "execution_count": 11,
   "metadata": {},
   "outputs": [
    {
     "name": "stdout",
     "output_type": "stream",
     "text": [
      "13.998\n",
      "6.66\n",
      "15.337\n",
      "7.406\n",
      "14.685\n",
      "7.043\n"
     ]
    },
    {
     "data": {
      "image/png": "[encoded data removed]",
      "text/plain": [
       "<matplotlib.figure.Figure at 0x10f42d320>"
      ]
     },
     "metadata": {},
     "output_type": "display_data"
    }
   ],
   "source": [
    "jw = []\n",
    "hw = []\n",
    "print(max(WISE))\n",
    "print(min(WISE))\n",
    "print(max(J_new))\n",
    "print(min(J_new))\n",
    "print(max(H_new))\n",
    "print(min(H_new))\n",
    "\n",
    "for r in range(len(J_new)):\n",
    "    j_w = J_new[r] - WISE[r]\n",
    "    h_w = H_new[r] - WISE[r]\n",
    "    jw.append(j_w)\n",
    "    hw.append(h_w)\n",
    "plt.figure(figsize=(8,6))\n",
    "plt.plot(hw,jw,\"o\")\n",
    "plt.title('J-WISE vs H-WISE')\n",
    "plt.xlabel('H-WISE')\n",
    "plt.ylabel('J-WISE')\n",
    "plt.savefig('CC_JW_HW',dpi=900)\n",
    "plt.show()"
   ]
  },
  {
   "cell_type": "markdown",
   "metadata": {},
   "source": [
    "### Now, let's look at finding the best M-dwarf spectra\n",
    "\n",
    "Let's begin wiht splitting H-WISE into 10 bins. Then, catagorize the stars into these 10 even incriments. Might be best to make a histogram of this data!"
   ]
  },
  {
   "cell_type": "code",
   "execution_count": 37,
   "metadata": {},
   "outputs": [
    {
     "name": "stdout",
     "output_type": "stream",
     "text": [
      "1.115\n",
      "-0.0160003\n"
     ]
    }
   ],
   "source": [
    "print(max(hw))\n",
    "print(min(hw))"
   ]
  },
  {
   "cell_type": "code",
   "execution_count": 17,
   "metadata": {},
   "outputs": [],
   "source": [
    "ranges,bin_edges = np.histogram(hw, bins = 10, range=None,normed=True,weights=None,density=True)"
   ]
  },
  {
   "cell_type": "code",
   "execution_count": 21,
   "metadata": {},
   "outputs": [
    {
     "name": "stdout",
     "output_type": "stream",
     "text": [
      "[ 0.22843382  0.6584269   0.98092171  1.28997923  2.39183649  2.40527378\n",
      "  0.76592517  0.06718642  0.04031185  0.01343728]\n"
     ]
    }
   ],
   "source": [
    "print(ranges)"
   ]
  },
  {
   "cell_type": "code",
   "execution_count": 22,
   "metadata": {},
   "outputs": [
    {
     "name": "stdout",
     "output_type": "stream",
     "text": [
      "[-0.01600027  0.09709973  0.21019974  0.32329974  0.43639975  0.54949975\n",
      "  0.66259975  0.77569976  0.88879976  1.00189977  1.11499977]\n"
     ]
    }
   ],
   "source": [
    "print(bin_edges)"
   ]
  },
  {
   "cell_type": "code",
   "execution_count": 34,
   "metadata": {},
   "outputs": [
    {
     "data": {
      "image/png": "[encoded data removed]",
      "text/plain": [
       "<matplotlib.figure.Figure at 0x11d946ac8>"
      ]
     },
     "metadata": {},
     "output_type": "display_data"
    }
   ],
   "source": [
    "plt.hist(hw,bins=10,color='Green',histtype='step')\n",
    "plt.xlabel('bins')\n",
    "plt.ylabel('H-WISE')\n",
    "plt.show()"
   ]
  },
  {
   "cell_type": "code",
   "execution_count": 44,
   "metadata": {},
   "outputs": [
    {
     "name": "stdout",
     "output_type": "stream",
     "text": [
      "304\n"
     ]
    }
   ],
   "source": [
    "best_loc = []\n",
    "best_apo = []\n",
    "for i in range(len(hw)):\n",
    "    if hw[i] >= 0.5:\n",
    "        if hw[i] < 0.7:\n",
    "            best_loc.append(location_IDs[i])\n",
    "            best_apo.append(apogee_IDs[i])\n",
    "            #print(hw[i])\n",
    "print(len(best_apo))"
   ]
  },
  {
   "cell_type": "code",
   "execution_count": 46,
   "metadata": {},
   "outputs": [
    {
     "name": "stdout",
     "output_type": "stream",
     "text": [
      "\r",
      "Downloading file apStar-r6-b'2M00024286+1516102'.fits ...\r"
     ]
    },
    {
     "ename": "OSError",
     "evalue": "File apStar-r6-b'2M00024286+1516102'.fits does not appear to exist on the server (as http://data.sdss.org/sas/dr13/apogee/spectro/redux/r6/stars/apo25m/4548/apStar-r6-b'2M00024286+1516102'.fits) ...",
     "output_type": "error",
     "traceback": [
      "\u001b[0;31m---------------------------------------------------------------------------\u001b[0m",
      "\u001b[0;31mCalledProcessError\u001b[0m                        Traceback (most recent call last)",
      "\u001b[0;32m/Users/reynaa/anaconda/lib/python3.6/site-packages/apogee-1.-py3.6.egg/apogee/tools/download.py\u001b[0m in \u001b[0;36m_download_file\u001b[0;34m(downloadPath, filePath, dr, verbose, spider)\u001b[0m\n\u001b[1;32m    594\u001b[0m             \u001b[0;32mif\u001b[0m \u001b[0mspider\u001b[0m\u001b[0;34m:\u001b[0m \u001b[0mcmd\u001b[0m\u001b[0;34m.\u001b[0m\u001b[0mappend\u001b[0m\u001b[0;34m(\u001b[0m\u001b[0;34m'--spider'\u001b[0m\u001b[0;34m)\u001b[0m\u001b[0;34m\u001b[0m\u001b[0m\n\u001b[0;32m--> 595\u001b[0;31m             \u001b[0msubprocess\u001b[0m\u001b[0;34m.\u001b[0m\u001b[0mcheck_call\u001b[0m\u001b[0;34m(\u001b[0m\u001b[0mcmd\u001b[0m\u001b[0;34m)\u001b[0m\u001b[0;34m\u001b[0m\u001b[0m\n\u001b[0m\u001b[1;32m    596\u001b[0m             \u001b[0;32mif\u001b[0m \u001b[0;32mnot\u001b[0m \u001b[0mspider\u001b[0m\u001b[0;34m:\u001b[0m \u001b[0mshutil\u001b[0m\u001b[0;34m.\u001b[0m\u001b[0mmove\u001b[0m\u001b[0;34m(\u001b[0m\u001b[0mtmp_savefilename\u001b[0m\u001b[0;34m,\u001b[0m\u001b[0mfilePath\u001b[0m\u001b[0;34m)\u001b[0m\u001b[0;34m\u001b[0m\u001b[0m\n",
      "\u001b[0;32m/Users/reynaa/anaconda/lib/python3.6/subprocess.py\u001b[0m in \u001b[0;36mcheck_call\u001b[0;34m(*popenargs, **kwargs)\u001b[0m\n\u001b[1;32m    290\u001b[0m             \u001b[0mcmd\u001b[0m \u001b[0;34m=\u001b[0m \u001b[0mpopenargs\u001b[0m\u001b[0;34m[\u001b[0m\u001b[0;36m0\u001b[0m\u001b[0;34m]\u001b[0m\u001b[0;34m\u001b[0m\u001b[0m\n\u001b[0;32m--> 291\u001b[0;31m         \u001b[0;32mraise\u001b[0m \u001b[0mCalledProcessError\u001b[0m\u001b[0;34m(\u001b[0m\u001b[0mretcode\u001b[0m\u001b[0;34m,\u001b[0m \u001b[0mcmd\u001b[0m\u001b[0;34m)\u001b[0m\u001b[0;34m\u001b[0m\u001b[0m\n\u001b[0m\u001b[1;32m    292\u001b[0m     \u001b[0;32mreturn\u001b[0m \u001b[0;36m0\u001b[0m\u001b[0;34m\u001b[0m\u001b[0m\n",
      "\u001b[0;31mCalledProcessError\u001b[0m: Command '['wget', \"http://data.sdss.org/sas/dr13/apogee/spectro/redux/r6/stars/apo25m/4548/apStar-r6-b'2M00024286+1516102'.fits\", '-O', '/var/folders/43/yf2x9xms1c19k6hdhd4cd488hgsrbn/T/tmp0t6gsnau', '--read-timeout=10', '--tries=3', '-q']' returned non-zero exit status 5.",
      "\nDuring handling of the above exception, another exception occurred:\n",
      "\u001b[0;31mOSError\u001b[0m                                   Traceback (most recent call last)",
      "\u001b[0;32m<ipython-input-46-21e7bd133a14>\u001b[0m in \u001b[0;36m<module>\u001b[0;34m()\u001b[0m\n\u001b[1;32m      1\u001b[0m \u001b[0;32mfor\u001b[0m \u001b[0mk\u001b[0m \u001b[0;32min\u001b[0m \u001b[0mrange\u001b[0m\u001b[0;34m(\u001b[0m\u001b[0mlen\u001b[0m\u001b[0;34m(\u001b[0m\u001b[0mbest_loc\u001b[0m\u001b[0;34m)\u001b[0m\u001b[0;34m)\u001b[0m\u001b[0;34m:\u001b[0m\u001b[0;34m\u001b[0m\u001b[0m\n\u001b[0;32m----> 2\u001b[0;31m     \u001b[0mspectra\u001b[0m \u001b[0;34m=\u001b[0m \u001b[0mapread\u001b[0m\u001b[0;34m.\u001b[0m\u001b[0mapStar\u001b[0m\u001b[0;34m(\u001b[0m\u001b[0mbest_loc\u001b[0m\u001b[0;34m[\u001b[0m\u001b[0mk\u001b[0m\u001b[0;34m]\u001b[0m\u001b[0;34m,\u001b[0m\u001b[0mbest_apo\u001b[0m\u001b[0;34m[\u001b[0m\u001b[0mk\u001b[0m\u001b[0;34m]\u001b[0m\u001b[0;34m,\u001b[0m\u001b[0mext\u001b[0m\u001b[0;34m=\u001b[0m\u001b[0;36m1\u001b[0m\u001b[0;34m,\u001b[0m\u001b[0mheader\u001b[0m\u001b[0;34m=\u001b[0m\u001b[0;32mFalse\u001b[0m\u001b[0;34m)\u001b[0m\u001b[0;34m[\u001b[0m\u001b[0;36m1\u001b[0m\u001b[0;34m]\u001b[0m\u001b[0;34m\u001b[0m\u001b[0m\n\u001b[0m\u001b[1;32m      3\u001b[0m     \u001b[0mplt\u001b[0m\u001b[0;34m.\u001b[0m\u001b[0mplot\u001b[0m\u001b[0;34m(\u001b[0m\u001b[0mspectra\u001b[0m\u001b[0;34m)\u001b[0m\u001b[0;34m\u001b[0m\u001b[0m\n",
      "\u001b[0;32m/Users/reynaa/anaconda/lib/python3.6/site-packages/apogee-1.-py3.6.egg/apogee/tools/read.py\u001b[0m in \u001b[0;36moutput_wrapper\u001b[0;34m(*args, **kwargs)\u001b[0m\n\u001b[1;32m     66\u001b[0m     \u001b[0;34m@\u001b[0m\u001b[0mwraps\u001b[0m\u001b[0;34m(\u001b[0m\u001b[0mfunc\u001b[0m\u001b[0;34m)\u001b[0m\u001b[0;34m\u001b[0m\u001b[0m\n\u001b[1;32m     67\u001b[0m     \u001b[0;32mdef\u001b[0m \u001b[0moutput_wrapper\u001b[0m\u001b[0;34m(\u001b[0m\u001b[0;34m*\u001b[0m\u001b[0margs\u001b[0m\u001b[0;34m,\u001b[0m\u001b[0;34m**\u001b[0m\u001b[0mkwargs\u001b[0m\u001b[0;34m)\u001b[0m\u001b[0;34m:\u001b[0m\u001b[0;34m\u001b[0m\u001b[0m\n\u001b[0;32m---> 68\u001b[0;31m         \u001b[0mout\u001b[0m\u001b[0;34m=\u001b[0m \u001b[0mfunc\u001b[0m\u001b[0;34m(\u001b[0m\u001b[0;34m*\u001b[0m\u001b[0margs\u001b[0m\u001b[0;34m,\u001b[0m\u001b[0;34m**\u001b[0m\u001b[0mkwargs\u001b[0m\u001b[0;34m)\u001b[0m\u001b[0;34m\u001b[0m\u001b[0m\n\u001b[0m\u001b[1;32m     69\u001b[0m         \u001b[0;32mif\u001b[0m \u001b[0mkwargs\u001b[0m\u001b[0;34m.\u001b[0m\u001b[0mget\u001b[0m\u001b[0;34m(\u001b[0m\u001b[0;34m'header'\u001b[0m\u001b[0;34m,\u001b[0m\u001b[0;32mTrue\u001b[0m\u001b[0;34m)\u001b[0m\u001b[0;34m:\u001b[0m\u001b[0;34m\u001b[0m\u001b[0m\n\u001b[1;32m     70\u001b[0m             \u001b[0mout\u001b[0m\u001b[0;34m,\u001b[0m \u001b[0mhdr\u001b[0m\u001b[0;34m=\u001b[0m \u001b[0mout\u001b[0m\u001b[0;34m\u001b[0m\u001b[0m\n",
      "\u001b[0;32m/Users/reynaa/anaconda/lib/python3.6/site-packages/apogee-1.-py3.6.egg/apogee/tools/read.py\u001b[0m in \u001b[0;36mapStar\u001b[0;34m(loc_id, apogee_id, ext, dr, header, aspcapWavegrid)\u001b[0m\n\u001b[1;32m    609\u001b[0m     \u001b[0mfilePath\u001b[0m\u001b[0;34m=\u001b[0m \u001b[0mpath\u001b[0m\u001b[0;34m.\u001b[0m\u001b[0mapStarPath\u001b[0m\u001b[0;34m(\u001b[0m\u001b[0mloc_id\u001b[0m\u001b[0;34m,\u001b[0m\u001b[0mapogee_id\u001b[0m\u001b[0;34m,\u001b[0m\u001b[0mdr\u001b[0m\u001b[0;34m=\u001b[0m\u001b[0mdr\u001b[0m\u001b[0;34m)\u001b[0m\u001b[0;34m\u001b[0m\u001b[0m\n\u001b[1;32m    610\u001b[0m     \u001b[0;32mif\u001b[0m \u001b[0;32mnot\u001b[0m \u001b[0mos\u001b[0m\u001b[0;34m.\u001b[0m\u001b[0mpath\u001b[0m\u001b[0;34m.\u001b[0m\u001b[0mexists\u001b[0m\u001b[0;34m(\u001b[0m\u001b[0mfilePath\u001b[0m\u001b[0;34m)\u001b[0m\u001b[0;34m:\u001b[0m\u001b[0;34m\u001b[0m\u001b[0m\n\u001b[0;32m--> 611\u001b[0;31m         \u001b[0mdownload\u001b[0m\u001b[0;34m.\u001b[0m\u001b[0mapStar\u001b[0m\u001b[0;34m(\u001b[0m\u001b[0mloc_id\u001b[0m\u001b[0;34m,\u001b[0m\u001b[0mapogee_id\u001b[0m\u001b[0;34m,\u001b[0m\u001b[0mdr\u001b[0m\u001b[0;34m=\u001b[0m\u001b[0mdr\u001b[0m\u001b[0;34m)\u001b[0m\u001b[0;34m\u001b[0m\u001b[0m\n\u001b[0m\u001b[1;32m    612\u001b[0m     \u001b[0mdata\u001b[0m\u001b[0;34m=\u001b[0m \u001b[0mfitsio\u001b[0m\u001b[0;34m.\u001b[0m\u001b[0mread\u001b[0m\u001b[0;34m(\u001b[0m\u001b[0mfilePath\u001b[0m\u001b[0;34m,\u001b[0m\u001b[0mext\u001b[0m\u001b[0;34m,\u001b[0m\u001b[0mheader\u001b[0m\u001b[0;34m=\u001b[0m\u001b[0mheader\u001b[0m\u001b[0;34m)\u001b[0m\u001b[0;34m\u001b[0m\u001b[0m\n\u001b[1;32m    613\u001b[0m     \u001b[0;32mreturn\u001b[0m \u001b[0mdata\u001b[0m\u001b[0;34m\u001b[0m\u001b[0m\n",
      "\u001b[0;32m/Users/reynaa/anaconda/lib/python3.6/site-packages/apogee-1.-py3.6.egg/apogee/tools/download.py\u001b[0m in \u001b[0;36mapStar\u001b[0;34m(loc_id, apogee_id, dr)\u001b[0m\n\u001b[1;32m    172\u001b[0m                                                 _dr_string(dr)),\n\u001b[1;32m    173\u001b[0m                                    _base_url(dr=dr))\n\u001b[0;32m--> 174\u001b[0;31m     \u001b[0m_download_file\u001b[0m\u001b[0;34m(\u001b[0m\u001b[0mdownloadPath\u001b[0m\u001b[0;34m,\u001b[0m\u001b[0mfilePath\u001b[0m\u001b[0;34m,\u001b[0m\u001b[0mdr\u001b[0m\u001b[0;34m)\u001b[0m\u001b[0;34m\u001b[0m\u001b[0m\n\u001b[0m\u001b[1;32m    175\u001b[0m     \u001b[0;32mreturn\u001b[0m \u001b[0;32mNone\u001b[0m\u001b[0;34m\u001b[0m\u001b[0m\n\u001b[1;32m    176\u001b[0m \u001b[0;34m\u001b[0m\u001b[0m\n",
      "\u001b[0;32m/Users/reynaa/anaconda/lib/python3.6/site-packages/apogee-1.-py3.6.egg/apogee/tools/download.py\u001b[0m in \u001b[0;36m_download_file\u001b[0;34m(downloadPath, filePath, dr, verbose, spider)\u001b[0m\n\u001b[1;32m    602\u001b[0m                 \u001b[0;32mraise\u001b[0m\u001b[0;34m\u001b[0m\u001b[0m\n\u001b[1;32m    603\u001b[0m             \u001b[0;32melif\u001b[0m \u001b[0mntries\u001b[0m \u001b[0;34m>\u001b[0m \u001b[0m_MAX_NTRIES\u001b[0m\u001b[0;34m:\u001b[0m\u001b[0;34m\u001b[0m\u001b[0m\n\u001b[0;32m--> 604\u001b[0;31m                 \u001b[0;32mraise\u001b[0m \u001b[0mIOError\u001b[0m\u001b[0;34m(\u001b[0m\u001b[0;34m'File %s does not appear to exist on the server (as %s) ...'\u001b[0m \u001b[0;34m%\u001b[0m \u001b[0;34m(\u001b[0m\u001b[0mos\u001b[0m\u001b[0;34m.\u001b[0m\u001b[0mpath\u001b[0m\u001b[0;34m.\u001b[0m\u001b[0mbasename\u001b[0m\u001b[0;34m(\u001b[0m\u001b[0mfilePath\u001b[0m\u001b[0;34m)\u001b[0m\u001b[0;34m,\u001b[0m\u001b[0mdownloadPath\u001b[0m\u001b[0;34m)\u001b[0m\u001b[0;34m)\u001b[0m\u001b[0;34m\u001b[0m\u001b[0m\n\u001b[0m\u001b[1;32m    605\u001b[0m             \u001b[0;32melif\u001b[0m \u001b[0;32mnot\u001b[0m \u001b[0;34m'exit status 4'\u001b[0m \u001b[0;32min\u001b[0m \u001b[0mstr\u001b[0m\u001b[0;34m(\u001b[0m\u001b[0me\u001b[0m\u001b[0;34m)\u001b[0m\u001b[0;34m:\u001b[0m\u001b[0;34m\u001b[0m\u001b[0m\n\u001b[1;32m    606\u001b[0m                 \u001b[0minterrupted\u001b[0m\u001b[0;34m=\u001b[0m \u001b[0;32mTrue\u001b[0m\u001b[0;34m\u001b[0m\u001b[0m\n",
      "\u001b[0;31mOSError\u001b[0m: File apStar-r6-b'2M00024286+1516102'.fits does not appear to exist on the server (as http://data.sdss.org/sas/dr13/apogee/spectro/redux/r6/stars/apo25m/4548/apStar-r6-b'2M00024286+1516102'.fits) ..."
     ]
    }
   ],
   "source": [
    "for k in range(len(best_loc)):\n",
    "    spectra = apread.apStar(best_loc[k],best_apo[k],ext=1,header=False)[1]\n",
    "    plt.plot(spectra)"
   ]
  },
  {
   "cell_type": "code",
   "execution_count": 36,
   "metadata": {},
   "outputs": [
    {
     "data": {
      "image/png": "[encoded data removed]",
      "text/plain": [
       "<matplotlib.figure.Figure at 0x11da02908>"
      ]
     },
     "metadata": {},
     "output_type": "display_data"
    }
   ],
   "source": [
    "# Auto-generated bins! As you can see, the mean stars lie within the 0.5 - 0.6 range\n",
    "plt.hist(hw,bins='auto',histtype='step',color='orange')\n",
    "plt.xlabel('bins')\n",
    "plt.ylabel('H-WISE')\n",
    "plt.show()"
   ]
  },
  {
   "cell_type": "code",
   "execution_count": null,
   "metadata": {
    "collapsed": true
   },
   "outputs": [],
   "source": []
  },
  {
   "cell_type": "code",
   "execution_count": null,
   "metadata": {
    "collapsed": true
   },
   "outputs": [],
   "source": []
  },
  {
   "cell_type": "code",
   "execution_count": null,
   "metadata": {
    "collapsed": true
   },
   "outputs": [],
   "source": []
  },
  {
   "cell_type": "markdown",
   "metadata": {},
   "source": [
    "### OLD CODE"
   ]
  },
  {
   "cell_type": "code",
   "execution_count": 72,
   "metadata": {},
   "outputs": [
    {
     "name": "stdout",
     "output_type": "stream",
     "text": [
      "-9999.99\n"
     ]
    }
   ],
   "source": [
    "wise = np.array(wise)\n",
    "print(wise[34])\n",
    "bad_indx = []\n",
    "for j in range(len(wise)):\n",
    "    if wise[j] == wise[34]:\n",
    "        bad_indx.append(j) "
   ]
  },
  {
   "cell_type": "code",
   "execution_count": 73,
   "metadata": {},
   "outputs": [
    {
     "name": "stdout",
     "output_type": "stream",
     "text": [
      "[34, 35, 37, 40, 52, 53, 66, 200, 204, 205, 212, 215, 216, 217, 221, 226, 227, 230, 233, 234, 236, 244, 249, 252, 263, 268, 270, 271, 273, 275, 279, 296, 299, 303, 304, 310, 312, 319, 320, 322, 323, 336, 337, 338, 340, 341, 345, 347, 357, 363, 373, 398, 417, 419, 431, 435, 447, 448, 450, 452, 453, 454, 457, 459, 460, 461, 467, 475, 476, 490, 494, 504, 509, 520, 523, 524, 531, 537, 542, 544, 549, 554, 555, 557, 558, 567, 577, 579, 588, 660, 738, 744]\n"
     ]
    }
   ],
   "source": [
    "print(bad_indx)"
   ]
  },
  {
   "cell_type": "code",
   "execution_count": 74,
   "metadata": {},
   "outputs": [
    {
     "name": "stdout",
     "output_type": "stream",
     "text": [
      "750\n"
     ]
    }
   ],
   "source": [
    "print(len(wise))"
   ]
  },
  {
   "cell_type": "code",
   "execution_count": 11,
   "metadata": {},
   "outputs": [
    {
     "data": {
      "text/plain": [
       "Counter({-9999.9902: 76,\n",
       "         6.6599998: 1,\n",
       "         6.8990002: 1,\n",
       "         6.9130001: 1,\n",
       "         6.927: 1,\n",
       "         6.9450002: 1,\n",
       "         7.053: 1,\n",
       "         7.073: 1,\n",
       "         7.1030002: 1,\n",
       "         7.138: 1,\n",
       "         7.1420002: 1,\n",
       "         7.1789999: 1,\n",
       "         7.1890001: 1,\n",
       "         7.2090001: 1,\n",
       "         7.283: 1,\n",
       "         7.3130002: 1,\n",
       "         7.3509998: 1,\n",
       "         7.4120002: 1,\n",
       "         7.5450001: 1,\n",
       "         7.5630002: 1,\n",
       "         7.5679998: 1,\n",
       "         7.5770001: 1,\n",
       "         7.598: 1,\n",
       "         7.6269999: 1,\n",
       "         7.6880002: 1,\n",
       "         7.6989999: 1,\n",
       "         7.7189999: 1,\n",
       "         7.7319999: 1,\n",
       "         7.7379999: 1,\n",
       "         7.7529998: 1,\n",
       "         7.7620001: 1,\n",
       "         7.8509998: 1,\n",
       "         7.8540001: 1,\n",
       "         7.8709998: 1,\n",
       "         7.8790002: 1,\n",
       "         7.8889999: 1,\n",
       "         7.9200001: 1,\n",
       "         7.9520001: 1,\n",
       "         7.9990001: 1,\n",
       "         8.0209999: 1,\n",
       "         8.1000004: 1,\n",
       "         8.1149998: 1,\n",
       "         8.1239996: 1,\n",
       "         8.1459999: 1,\n",
       "         8.1540003: 1,\n",
       "         8.1999998: 1,\n",
       "         8.2069998: 1,\n",
       "         8.2150002: 1,\n",
       "         8.2320004: 1,\n",
       "         8.2370005: 1,\n",
       "         8.25: 1,\n",
       "         8.2620001: 1,\n",
       "         8.2849998: 1,\n",
       "         8.2860003: 2,\n",
       "         8.2910004: 1,\n",
       "         8.2989998: 2,\n",
       "         8.3039999: 1,\n",
       "         8.3190002: 1,\n",
       "         8.3310003: 1,\n",
       "         8.3380003: 1,\n",
       "         8.3500004: 1,\n",
       "         8.3669996: 1,\n",
       "         8.3979998: 1,\n",
       "         8.3999996: 1,\n",
       "         8.4090004: 1,\n",
       "         8.415: 1,\n",
       "         8.4160004: 1,\n",
       "         8.4239998: 1,\n",
       "         8.4259996: 1,\n",
       "         8.4320002: 1,\n",
       "         8.4370003: 2,\n",
       "         8.4390001: 1,\n",
       "         8.4460001: 1,\n",
       "         8.4689999: 1,\n",
       "         8.4790001: 1,\n",
       "         8.4829998: 1,\n",
       "         8.4919996: 1,\n",
       "         8.493: 1,\n",
       "         8.5249996: 1,\n",
       "         8.526: 1,\n",
       "         8.5270004: 2,\n",
       "         8.5349998: 1,\n",
       "         8.5380001: 1,\n",
       "         8.5430002: 1,\n",
       "         8.5450001: 2,\n",
       "         8.5480003: 2,\n",
       "         8.5579996: 1,\n",
       "         8.5710001: 1,\n",
       "         8.5839996: 1,\n",
       "         8.5930004: 1,\n",
       "         8.6020002: 1,\n",
       "         8.6049995: 1,\n",
       "         8.6059999: 1,\n",
       "         8.6149998: 1,\n",
       "         8.6210003: 1,\n",
       "         8.6260004: 1,\n",
       "         8.6280003: 1,\n",
       "         8.6370001: 1,\n",
       "         8.6379995: 1,\n",
       "         8.6429996: 1,\n",
       "         8.6440001: 1,\n",
       "         8.6569996: 1,\n",
       "         8.6719999: 1,\n",
       "         8.6800003: 1,\n",
       "         8.691: 1,\n",
       "         8.6990004: 1,\n",
       "         8.7209997: 1,\n",
       "         8.7270002: 1,\n",
       "         8.7279997: 1,\n",
       "         8.7370005: 1,\n",
       "         8.7379999: 1,\n",
       "         8.7440004: 1,\n",
       "         8.7449999: 1,\n",
       "         8.7580004: 1,\n",
       "         8.776: 1,\n",
       "         8.7799997: 1,\n",
       "         8.7819996: 1,\n",
       "         8.7939997: 1,\n",
       "         8.7969999: 1,\n",
       "         8.809: 1,\n",
       "         8.8100004: 2,\n",
       "         8.8290005: 1,\n",
       "         8.8649998: 1,\n",
       "         8.8669996: 1,\n",
       "         8.875: 1,\n",
       "         8.8920002: 1,\n",
       "         8.8950005: 1,\n",
       "         8.8990002: 1,\n",
       "         8.9029999: 1,\n",
       "         8.9130001: 1,\n",
       "         8.9239998: 1,\n",
       "         8.9280005: 1,\n",
       "         8.9289999: 1,\n",
       "         8.9399996: 1,\n",
       "         8.9540005: 2,\n",
       "         8.9549999: 1,\n",
       "         8.9659996: 1,\n",
       "         8.967: 1,\n",
       "         8.9700003: 1,\n",
       "         8.9759998: 1,\n",
       "         8.9799995: 1,\n",
       "         8.9820004: 1,\n",
       "         8.993: 1,\n",
       "         9.0089998: 1,\n",
       "         9.0129995: 1,\n",
       "         9.0170002: 2,\n",
       "         9.0240002: 1,\n",
       "         9.033: 1,\n",
       "         9.059: 2,\n",
       "         9.0640001: 1,\n",
       "         9.0749998: 1,\n",
       "         9.0769997: 1,\n",
       "         9.0780001: 1,\n",
       "         9.0819998: 1,\n",
       "         9.0959997: 1,\n",
       "         9.1000004: 1,\n",
       "         9.1029997: 1,\n",
       "         9.1049995: 1,\n",
       "         9.1059999: 1,\n",
       "         9.1099997: 1,\n",
       "         9.1120005: 2,\n",
       "         9.1169996: 1,\n",
       "         9.1219997: 1,\n",
       "         9.1269999: 1,\n",
       "         9.1280003: 1,\n",
       "         9.1350002: 1,\n",
       "         9.1590004: 1,\n",
       "         9.1709995: 1,\n",
       "         9.1879997: 1,\n",
       "         9.191: 1,\n",
       "         9.217: 1,\n",
       "         9.2440004: 1,\n",
       "         9.2469997: 1,\n",
       "         9.2580004: 1,\n",
       "         9.2639999: 1,\n",
       "         9.2880001: 1,\n",
       "         9.29: 1,\n",
       "         9.3240004: 1,\n",
       "         9.3319998: 1,\n",
       "         9.3540001: 1,\n",
       "         9.3549995: 1,\n",
       "         9.3649998: 1,\n",
       "         9.4169998: 1,\n",
       "         9.4189997: 1,\n",
       "         9.4320002: 1,\n",
       "         9.4440002: 1,\n",
       "         9.4589996: 1,\n",
       "         9.4689999: 1,\n",
       "         9.4969997: 1,\n",
       "         9.5129995: 1,\n",
       "         9.5299997: 1,\n",
       "         9.5310001: 1,\n",
       "         9.5360003: 1,\n",
       "         9.5690002: 1,\n",
       "         9.5799999: 1,\n",
       "         9.5950003: 1,\n",
       "         9.6090002: 1,\n",
       "         9.625: 1,\n",
       "         9.6280003: 1,\n",
       "         9.6289997: 1,\n",
       "         9.6359997: 1,\n",
       "         9.6689997: 1,\n",
       "         9.6780005: 1,\n",
       "         9.6820002: 1,\n",
       "         9.7030001: 1,\n",
       "         9.7089996: 2,\n",
       "         9.71: 1,\n",
       "         9.717: 1,\n",
       "         9.7229996: 1,\n",
       "         9.724: 1,\n",
       "         9.7290001: 1,\n",
       "         9.7320004: 1,\n",
       "         9.7360001: 1,\n",
       "         9.7399998: 1,\n",
       "         9.7449999: 1,\n",
       "         9.7709999: 1,\n",
       "         9.7740002: 1,\n",
       "         9.7779999: 1,\n",
       "         9.7810001: 1,\n",
       "         9.8050003: 1,\n",
       "         9.8079996: 1,\n",
       "         9.8100004: 1,\n",
       "         9.8109999: 1,\n",
       "         9.8190002: 1,\n",
       "         9.8249998: 1,\n",
       "         9.8299999: 1,\n",
       "         9.8450003: 1,\n",
       "         9.8549995: 1,\n",
       "         9.8599997: 1,\n",
       "         9.8629999: 2,\n",
       "         9.8660002: 1,\n",
       "         9.8690004: 2,\n",
       "         9.8850002: 1,\n",
       "         9.9119997: 1,\n",
       "         9.9219999: 1,\n",
       "         9.974: 1,\n",
       "         9.9750004: 1,\n",
       "         9.9840002: 1,\n",
       "         9.9910002: 1,\n",
       "         10.007: 1,\n",
       "         10.017: 1,\n",
       "         10.037: 1,\n",
       "         10.049: 1,\n",
       "         10.053: 1,\n",
       "         10.062: 1,\n",
       "         10.064: 1,\n",
       "         10.066: 1,\n",
       "         10.067: 1,\n",
       "         10.077: 1,\n",
       "         10.086: 1,\n",
       "         10.088: 1,\n",
       "         10.09: 1,\n",
       "         10.091: 1,\n",
       "         10.108: 1,\n",
       "         10.122: 1,\n",
       "         10.13: 1,\n",
       "         10.137: 1,\n",
       "         10.141: 1,\n",
       "         10.145: 1,\n",
       "         10.146: 1,\n",
       "         10.153: 1,\n",
       "         10.165: 1,\n",
       "         10.174: 1,\n",
       "         10.178: 1,\n",
       "         10.195: 1,\n",
       "         10.2: 1,\n",
       "         10.208: 1,\n",
       "         10.223: 1,\n",
       "         10.225: 1,\n",
       "         10.232: 1,\n",
       "         10.236: 1,\n",
       "         10.241: 1,\n",
       "         10.252: 1,\n",
       "         10.261: 1,\n",
       "         10.267: 1,\n",
       "         10.27: 1,\n",
       "         10.271: 1,\n",
       "         10.275: 1,\n",
       "         10.276: 1,\n",
       "         10.277: 1,\n",
       "         10.28: 1,\n",
       "         10.296: 1,\n",
       "         10.302: 1,\n",
       "         10.307: 1,\n",
       "         10.312: 1,\n",
       "         10.317: 1,\n",
       "         10.32: 1,\n",
       "         10.335: 2,\n",
       "         10.35: 1,\n",
       "         10.354: 1,\n",
       "         10.371: 1,\n",
       "         10.376: 1,\n",
       "         10.405: 2,\n",
       "         10.414: 1,\n",
       "         10.423: 1,\n",
       "         10.441: 1,\n",
       "         10.443: 2,\n",
       "         10.448: 2,\n",
       "         10.452: 1,\n",
       "         10.473: 1,\n",
       "         10.475: 1,\n",
       "         10.486: 1,\n",
       "         10.493: 1,\n",
       "         10.499: 1,\n",
       "         10.516: 1,\n",
       "         10.527: 1,\n",
       "         10.528: 1,\n",
       "         10.535: 1,\n",
       "         10.54: 1,\n",
       "         10.551: 1,\n",
       "         10.552: 2,\n",
       "         10.558: 2,\n",
       "         10.567: 1,\n",
       "         10.569: 1,\n",
       "         10.571: 1,\n",
       "         10.573: 1,\n",
       "         10.593: 2,\n",
       "         10.602: 1,\n",
       "         10.604: 1,\n",
       "         10.608: 1,\n",
       "         10.612: 1,\n",
       "         10.614: 1,\n",
       "         10.626: 2,\n",
       "         10.629: 1,\n",
       "         10.63: 1,\n",
       "         10.632: 1,\n",
       "         10.639: 1,\n",
       "         10.64: 1,\n",
       "         10.643: 1,\n",
       "         10.645: 1,\n",
       "         10.649: 1,\n",
       "         10.651: 1,\n",
       "         10.66: 1,\n",
       "         10.665: 1,\n",
       "         10.668: 1,\n",
       "         10.672: 1,\n",
       "         10.676: 1,\n",
       "         10.691: 1,\n",
       "         10.697: 1,\n",
       "         10.698: 1,\n",
       "         10.701: 1,\n",
       "         10.707: 1,\n",
       "         10.713: 1,\n",
       "         10.715: 1,\n",
       "         10.717: 1,\n",
       "         10.72: 2,\n",
       "         10.726: 1,\n",
       "         10.731: 1,\n",
       "         10.733: 1,\n",
       "         10.746: 1,\n",
       "         10.751: 2,\n",
       "         10.758: 1,\n",
       "         10.759: 1,\n",
       "         10.765: 1,\n",
       "         10.767: 1,\n",
       "         10.778: 1,\n",
       "         10.78: 2,\n",
       "         10.784: 1,\n",
       "         10.785: 1,\n",
       "         10.787: 1,\n",
       "         10.793: 1,\n",
       "         10.794: 1,\n",
       "         10.805: 1,\n",
       "         10.809: 1,\n",
       "         10.811: 1,\n",
       "         10.816: 1,\n",
       "         10.821: 2,\n",
       "         10.822: 1,\n",
       "         10.829: 1,\n",
       "         10.834: 1,\n",
       "         10.841: 1,\n",
       "         10.85: 1,\n",
       "         10.858: 1,\n",
       "         10.871: 1,\n",
       "         10.875: 1,\n",
       "         10.879: 1,\n",
       "         10.882: 1,\n",
       "         10.892: 2,\n",
       "         10.896: 2,\n",
       "         10.897: 1,\n",
       "         10.898: 1,\n",
       "         10.911: 1,\n",
       "         10.912: 1,\n",
       "         10.913: 1,\n",
       "         10.914: 1,\n",
       "         10.929: 1,\n",
       "         10.931: 1,\n",
       "         10.939: 1,\n",
       "         10.94: 1,\n",
       "         10.941: 1,\n",
       "         10.946: 1,\n",
       "         10.953: 1,\n",
       "         10.958: 1,\n",
       "         10.963: 1,\n",
       "         10.967: 1,\n",
       "         10.969: 1,\n",
       "         10.972: 2,\n",
       "         10.973: 1,\n",
       "         10.974: 1,\n",
       "         10.975: 1,\n",
       "         10.979: 1,\n",
       "         10.986: 2,\n",
       "         10.987: 1,\n",
       "         10.989: 1,\n",
       "         10.991: 1,\n",
       "         10.993: 1,\n",
       "         10.994: 1,\n",
       "         10.998: 1,\n",
       "         11.0: 1,\n",
       "         11.001: 1,\n",
       "         11.014: 1,\n",
       "         11.019: 1,\n",
       "         11.022: 1,\n",
       "         11.023: 1,\n",
       "         11.028: 1,\n",
       "         11.029: 2,\n",
       "         11.055: 1,\n",
       "         11.062: 1,\n",
       "         11.063: 2,\n",
       "         11.066: 1,\n",
       "         11.067: 1,\n",
       "         11.081: 1,\n",
       "         11.083: 1,\n",
       "         11.084: 1,\n",
       "         11.087: 1,\n",
       "         11.09: 2,\n",
       "         11.1: 1,\n",
       "         11.117: 1,\n",
       "         11.119: 1,\n",
       "         11.123: 1,\n",
       "         11.129: 2,\n",
       "         11.132: 2,\n",
       "         11.137: 2,\n",
       "         11.144: 1,\n",
       "         11.156: 1,\n",
       "         11.162: 1,\n",
       "         11.163: 1,\n",
       "         11.165: 1,\n",
       "         11.168: 1,\n",
       "         11.169: 1,\n",
       "         11.171: 1,\n",
       "         11.173: 1,\n",
       "         11.177: 3,\n",
       "         11.184: 2,\n",
       "         11.192: 1,\n",
       "         11.194: 1,\n",
       "         11.196: 1,\n",
       "         11.199: 1,\n",
       "         11.201: 1,\n",
       "         11.214: 1,\n",
       "         11.219: 1,\n",
       "         11.22: 1,\n",
       "         11.227: 1,\n",
       "         11.229: 1,\n",
       "         11.235: 1,\n",
       "         11.236: 1,\n",
       "         11.239: 1,\n",
       "         11.24: 1,\n",
       "         11.254: 2,\n",
       "         11.257: 1,\n",
       "         11.269: 1,\n",
       "         11.27: 1,\n",
       "         11.273: 1,\n",
       "         11.275: 1,\n",
       "         11.277: 2,\n",
       "         11.279: 1,\n",
       "         11.28: 1,\n",
       "         11.283: 1,\n",
       "         11.3: 1,\n",
       "         11.302: 2,\n",
       "         11.319: 2,\n",
       "         11.325: 1,\n",
       "         11.326: 1,\n",
       "         11.328: 1,\n",
       "         11.329: 1,\n",
       "         11.333: 1,\n",
       "         11.336: 1,\n",
       "         11.337: 1,\n",
       "         11.34: 1,\n",
       "         11.344: 1,\n",
       "         11.346: 1,\n",
       "         11.347: 1,\n",
       "         11.353: 1,\n",
       "         11.367: 1,\n",
       "         11.384: 2,\n",
       "         11.387: 1,\n",
       "         11.394: 1,\n",
       "         11.396: 1,\n",
       "         11.409: 1,\n",
       "         11.417: 2,\n",
       "         11.423: 1,\n",
       "         11.426: 1,\n",
       "         11.433: 1,\n",
       "         11.444: 1,\n",
       "         11.445: 1,\n",
       "         11.449: 1,\n",
       "         11.459: 1,\n",
       "         11.466: 1,\n",
       "         11.481: 1,\n",
       "         11.482: 1,\n",
       "         11.49: 1,\n",
       "         11.509: 1,\n",
       "         11.514: 1,\n",
       "         11.528: 1,\n",
       "         11.56: 1,\n",
       "         11.571: 1,\n",
       "         11.591: 1,\n",
       "         11.602: 1,\n",
       "         11.603: 1,\n",
       "         11.607: 1,\n",
       "         11.611: 1,\n",
       "         11.627: 1,\n",
       "         11.643: 1,\n",
       "         11.646: 1,\n",
       "         11.691: 1,\n",
       "         11.699: 1,\n",
       "         11.701: 1,\n",
       "         11.729: 1,\n",
       "         11.731: 1,\n",
       "         11.751: 1,\n",
       "         11.845: 1,\n",
       "         11.912: 1,\n",
       "         11.973: 1,\n",
       "         12.285: 1,\n",
       "         12.291: 1,\n",
       "         12.405: 1,\n",
       "         12.438: 1,\n",
       "         12.536: 1,\n",
       "         12.576: 1,\n",
       "         12.597: 1,\n",
       "         12.649: 1,\n",
       "         12.679: 1,\n",
       "         12.776: 1,\n",
       "         12.975: 1,\n",
       "         13.045: 1,\n",
       "         13.225: 1,\n",
       "         13.401: 1,\n",
       "         13.48: 1,\n",
       "         13.622: 1,\n",
       "         13.998: 1})"
      ]
     },
     "execution_count": 11,
     "metadata": {},
     "output_type": "execute_result"
    }
   ],
   "source": [
    "Counter(wise)"
   ]
  },
  {
   "cell_type": "code",
   "execution_count": 12,
   "metadata": {},
   "outputs": [
    {
     "ename": "IndexError",
     "evalue": "list assignment index out of range",
     "output_type": "error",
     "traceback": [
      "\u001b[0;31m---------------------------------------------------------------------------\u001b[0m",
      "\u001b[0;31mIndexError\u001b[0m                                Traceback (most recent call last)",
      "\u001b[0;32m<ipython-input-12-e44e3457467b>\u001b[0m in \u001b[0;36m<module>\u001b[0;34m()\u001b[0m\n\u001b[1;32m      1\u001b[0m \u001b[0;32mfor\u001b[0m \u001b[0mi\u001b[0m \u001b[0;32min\u001b[0m \u001b[0mrange\u001b[0m\u001b[0;34m(\u001b[0m\u001b[0mlen\u001b[0m\u001b[0;34m(\u001b[0m\u001b[0mJ\u001b[0m\u001b[0;34m)\u001b[0m\u001b[0;34m)\u001b[0m\u001b[0;34m:\u001b[0m\u001b[0;34m\u001b[0m\u001b[0m\n\u001b[1;32m      2\u001b[0m     \u001b[0mindx\u001b[0m \u001b[0;34m=\u001b[0m \u001b[0mbad_indx\u001b[0m\u001b[0;34m[\u001b[0m\u001b[0mi\u001b[0m\u001b[0;34m]\u001b[0m\u001b[0;34m\u001b[0m\u001b[0m\n\u001b[0;32m----> 3\u001b[0;31m     \u001b[0;32mdel\u001b[0m \u001b[0mJ\u001b[0m\u001b[0;34m[\u001b[0m\u001b[0mindx\u001b[0m\u001b[0;34m]\u001b[0m\u001b[0;34m\u001b[0m\u001b[0m\n\u001b[0m",
      "\u001b[0;31mIndexError\u001b[0m: list assignment index out of range"
     ]
    }
   ],
   "source": [
    "for i in range(len(J)):\n",
    "    indx = bad_indx[i]\n",
    "    del J[indx]"
   ]
  },
  {
   "cell_type": "code",
   "execution_count": 14,
   "metadata": {},
   "outputs": [
    {
     "name": "stdout",
     "output_type": "stream",
     "text": [
      "660\n"
     ]
    }
   ],
   "source": [
    "print(len(J))"
   ]
  }
 ],
 "metadata": {
  "kernelspec": {
   "display_name": "Python 3",
   "language": "python",
   "name": "python3"
  },
  "language_info": {
   "codemirror_mode": {
    "name": "ipython",
    "version": 3
   },
   "file_extension": ".py",
   "mimetype": "text/x-python",
   "name": "python",
   "nbconvert_exporter": "python",
   "pygments_lexer": "ipython3",
   "version": "3.6.1"
  }
 },
 "nbformat": 4,
 "nbformat_minor": 2
}
