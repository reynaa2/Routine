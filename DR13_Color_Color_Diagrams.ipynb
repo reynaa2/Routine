{
 "cells": [
  {
   "cell_type": "code",
   "execution_count": 1,
   "metadata": {
    "collapsed": true
   },
   "outputs": [],
   "source": [
    "import pandas as pd\n",
    "import numpy as np\n",
    "import apogee.tools.read as apread\n",
    "from matplotlib import pyplot as plt\n",
    "import pylab as pl"
   ]
  },
  {
   "cell_type": "code",
   "execution_count": 2,
   "metadata": {
    "collapsed": true
   },
   "outputs": [],
   "source": [
    "from apogee.tools import bitmask"
   ]
  },
  {
   "cell_type": "markdown",
   "metadata": {},
   "source": [
    "### Read in Binaries identified by KC IDL routine"
   ]
  },
  {
   "cell_type": "code",
   "execution_count": 3,
   "metadata": {
    "collapsed": true
   },
   "outputs": [],
   "source": [
    "x = pd.read_csv('KC_Binaries.csv',delimiter='\\t')"
   ]
  },
  {
   "cell_type": "code",
   "execution_count": 4,
   "metadata": {
    "collapsed": true
   },
   "outputs": [],
   "source": [
    "KC_locID = x['Location_ID']\n",
    "KC_apoID = x['Apogee_ID']\n",
    "IND = x['ID']"
   ]
  },
  {
   "cell_type": "code",
   "execution_count": 5,
   "metadata": {},
   "outputs": [
    {
     "data": {
      "text/plain": [
       "2"
      ]
     },
     "execution_count": 5,
     "metadata": {},
     "output_type": "execute_result"
    }
   ],
   "source": [
    "list(KC_locID).index(4590)"
   ]
  },
  {
   "cell_type": "code",
   "execution_count": 6,
   "metadata": {
    "collapsed": true
   },
   "outputs": [],
   "source": [
    "KC_index = list(KC_apoID).index('2M00050265+0116236')"
   ]
  },
  {
   "cell_type": "markdown",
   "metadata": {},
   "source": [
    "### Read in master list of DR13"
   ]
  },
  {
   "cell_type": "code",
   "execution_count": 7,
   "metadata": {
    "collapsed": true
   },
   "outputs": [],
   "source": [
    "y = pd.read_csv('/Volumes/coveydata/APOGEE_Spectra/APOGEE2_DR13/Bisector/Jessica/master_apStarList_DR13.csv',delim_whitespace=True)"
   ]
  },
  {
   "cell_type": "code",
   "execution_count": 8,
   "metadata": {
    "scrolled": true
   },
   "outputs": [
    {
     "data": {
      "text/html": [
       "<div>\n",
       "<style>\n",
       "    .dataframe thead tr:only-child th {\n",
       "        text-align: right;\n",
       "    }\n",
       "\n",
       "    .dataframe thead th {\n",
       "        text-align: left;\n",
       "    }\n",
       "\n",
       "    .dataframe tbody tr th {\n",
       "        vertical-align: top;\n",
       "    }\n",
       "</style>\n",
       "<table border=\"1\" class=\"dataframe\">\n",
       "  <thead>\n",
       "    <tr style=\"text-align: right;\">\n",
       "      <th></th>\n",
       "      <th>0</th>\n",
       "      <th>0.1</th>\n",
       "      <th>0.2</th>\n",
       "      <th>VESTA</th>\n",
       "      <th>1</th>\n",
       "      <th>apStar-r6-VESTA.fits</th>\n",
       "      <th>1/apStar-r6-VESTA.fits</th>\n",
       "    </tr>\n",
       "  </thead>\n",
       "  <tbody>\n",
       "    <tr>\n",
       "      <th>0</th>\n",
       "      <td>0</td>\n",
       "      <td>0</td>\n",
       "      <td>0</td>\n",
       "      <td>2M00000032+5737103</td>\n",
       "      <td>4424</td>\n",
       "      <td>apStar-r6-2M00000032+5737103.fits</td>\n",
       "      <td>4424/apStar-r6-2M00000032+5737103.fits</td>\n",
       "    </tr>\n",
       "    <tr>\n",
       "      <th>1</th>\n",
       "      <td>0</td>\n",
       "      <td>0</td>\n",
       "      <td>0</td>\n",
       "      <td>2M00000032+5737103</td>\n",
       "      <td>4264</td>\n",
       "      <td>apStar-r6-2M00000032+5737103.fits</td>\n",
       "      <td>4264/apStar-r6-2M00000032+5737103.fits</td>\n",
       "    </tr>\n",
       "    <tr>\n",
       "      <th>2</th>\n",
       "      <td>0</td>\n",
       "      <td>0</td>\n",
       "      <td>0</td>\n",
       "      <td>2M00000068+5710233</td>\n",
       "      <td>4264</td>\n",
       "      <td>apStar-r6-2M00000068+5710233.fits</td>\n",
       "      <td>4264/apStar-r6-2M00000068+5710233.fits</td>\n",
       "    </tr>\n",
       "    <tr>\n",
       "      <th>3</th>\n",
       "      <td>0</td>\n",
       "      <td>0</td>\n",
       "      <td>0</td>\n",
       "      <td>2M00000211+6327470</td>\n",
       "      <td>4591</td>\n",
       "      <td>apStar-r6-2M00000211+6327470.fits</td>\n",
       "      <td>4591/apStar-r6-2M00000211+6327470.fits</td>\n",
       "    </tr>\n",
       "    <tr>\n",
       "      <th>4</th>\n",
       "      <td>0</td>\n",
       "      <td>0</td>\n",
       "      <td>0</td>\n",
       "      <td>2M00000222+5625359</td>\n",
       "      <td>4264</td>\n",
       "      <td>apStar-r6-2M00000222+5625359.fits</td>\n",
       "      <td>4264/apStar-r6-2M00000222+5625359.fits</td>\n",
       "    </tr>\n",
       "    <tr>\n",
       "      <th>5</th>\n",
       "      <td>0</td>\n",
       "      <td>0</td>\n",
       "      <td>0</td>\n",
       "      <td>2M00000233+1452324</td>\n",
       "      <td>4548</td>\n",
       "      <td>apStar-r6-2M00000233+1452324.fits</td>\n",
       "      <td>4548/apStar-r6-2M00000233+1452324.fits</td>\n",
       "    </tr>\n",
       "    <tr>\n",
       "      <th>6</th>\n",
       "      <td>0</td>\n",
       "      <td>0</td>\n",
       "      <td>0</td>\n",
       "      <td>2M00000317+5821383</td>\n",
       "      <td>4424</td>\n",
       "      <td>apStar-r6-2M00000317+5821383.fits</td>\n",
       "      <td>4424/apStar-r6-2M00000317+5821383.fits</td>\n",
       "    </tr>\n",
       "    <tr>\n",
       "      <th>7</th>\n",
       "      <td>0</td>\n",
       "      <td>0</td>\n",
       "      <td>0</td>\n",
       "      <td>2M00000446+5854329</td>\n",
       "      <td>4424</td>\n",
       "      <td>apStar-r6-2M00000446+5854329.fits</td>\n",
       "      <td>4424/apStar-r6-2M00000446+5854329.fits</td>\n",
       "    </tr>\n",
       "    <tr>\n",
       "      <th>8</th>\n",
       "      <td>0</td>\n",
       "      <td>0</td>\n",
       "      <td>0</td>\n",
       "      <td>2M00000535+1504343</td>\n",
       "      <td>4548</td>\n",
       "      <td>apStar-r6-2M00000535+1504343.fits</td>\n",
       "      <td>4548/apStar-r6-2M00000535+1504343.fits</td>\n",
       "    </tr>\n",
       "    <tr>\n",
       "      <th>9</th>\n",
       "      <td>0</td>\n",
       "      <td>0</td>\n",
       "      <td>0</td>\n",
       "      <td>2M00000662+7528598</td>\n",
       "      <td>4287</td>\n",
       "      <td>apStar-r6-2M00000662+7528598.fits</td>\n",
       "      <td>4287/apStar-r6-2M00000662+7528598.fits</td>\n",
       "    </tr>\n",
       "    <tr>\n",
       "      <th>10</th>\n",
       "      <td>0</td>\n",
       "      <td>0</td>\n",
       "      <td>0</td>\n",
       "      <td>2M00000797+6436119</td>\n",
       "      <td>4591</td>\n",
       "      <td>apStar-r6-2M00000797+6436119.fits</td>\n",
       "      <td>4591/apStar-r6-2M00000797+6436119.fits</td>\n",
       "    </tr>\n",
       "    <tr>\n",
       "      <th>11</th>\n",
       "      <td>0</td>\n",
       "      <td>0</td>\n",
       "      <td>0</td>\n",
       "      <td>2M00000818+5634264</td>\n",
       "      <td>4264</td>\n",
       "      <td>apStar-r6-2M00000818+5634264.fits</td>\n",
       "      <td>4264/apStar-r6-2M00000818+5634264.fits</td>\n",
       "    </tr>\n",
       "    <tr>\n",
       "      <th>12</th>\n",
       "      <td>0</td>\n",
       "      <td>0</td>\n",
       "      <td>0</td>\n",
       "      <td>2M00000866+7122144</td>\n",
       "      <td>4120</td>\n",
       "      <td>apStar-r6-2M00000866+7122144.fits</td>\n",
       "      <td>4120/apStar-r6-2M00000866+7122144.fits</td>\n",
       "    </tr>\n",
       "    <tr>\n",
       "      <th>13</th>\n",
       "      <td>0</td>\n",
       "      <td>0</td>\n",
       "      <td>0</td>\n",
       "      <td>2M00001104+6348085</td>\n",
       "      <td>4591</td>\n",
       "      <td>apStar-r6-2M00001104+6348085.fits</td>\n",
       "      <td>4591/apStar-r6-2M00001104+6348085.fits</td>\n",
       "    </tr>\n",
       "    <tr>\n",
       "      <th>14</th>\n",
       "      <td>0</td>\n",
       "      <td>0</td>\n",
       "      <td>0</td>\n",
       "      <td>2M00001242+5524391</td>\n",
       "      <td>4264</td>\n",
       "      <td>apStar-r6-2M00001242+5524391.fits</td>\n",
       "      <td>4264/apStar-r6-2M00001242+5524391.fits</td>\n",
       "    </tr>\n",
       "    <tr>\n",
       "      <th>15</th>\n",
       "      <td>0</td>\n",
       "      <td>0</td>\n",
       "      <td>0</td>\n",
       "      <td>2M00001296+5851378</td>\n",
       "      <td>4424</td>\n",
       "      <td>apStar-r6-2M00001296+5851378.fits</td>\n",
       "      <td>4424/apStar-r6-2M00001296+5851378.fits</td>\n",
       "    </tr>\n",
       "    <tr>\n",
       "      <th>16</th>\n",
       "      <td>0</td>\n",
       "      <td>0</td>\n",
       "      <td>0</td>\n",
       "      <td>2M00001328+5725563</td>\n",
       "      <td>4264</td>\n",
       "      <td>apStar-r6-2M00001328+5725563.fits</td>\n",
       "      <td>4264/apStar-r6-2M00001328+5725563.fits</td>\n",
       "    </tr>\n",
       "    <tr>\n",
       "      <th>17</th>\n",
       "      <td>0</td>\n",
       "      <td>0</td>\n",
       "      <td>0</td>\n",
       "      <td>2M00001616+1606151</td>\n",
       "      <td>4548</td>\n",
       "      <td>apStar-r6-2M00001616+1606151.fits</td>\n",
       "      <td>4548/apStar-r6-2M00001616+1606151.fits</td>\n",
       "    </tr>\n",
       "    <tr>\n",
       "      <th>18</th>\n",
       "      <td>0</td>\n",
       "      <td>0</td>\n",
       "      <td>0</td>\n",
       "      <td>2M00001653+5540107</td>\n",
       "      <td>4264</td>\n",
       "      <td>apStar-r6-2M00001653+5540107.fits</td>\n",
       "      <td>4264/apStar-r6-2M00001653+5540107.fits</td>\n",
       "    </tr>\n",
       "    <tr>\n",
       "      <th>19</th>\n",
       "      <td>0</td>\n",
       "      <td>0</td>\n",
       "      <td>0</td>\n",
       "      <td>2M00001687+5903034</td>\n",
       "      <td>4424</td>\n",
       "      <td>apStar-r6-2M00001687+5903034.fits</td>\n",
       "      <td>4424/apStar-r6-2M00001687+5903034.fits</td>\n",
       "    </tr>\n",
       "    <tr>\n",
       "      <th>20</th>\n",
       "      <td>0</td>\n",
       "      <td>0</td>\n",
       "      <td>0</td>\n",
       "      <td>2M00001701+7052395</td>\n",
       "      <td>4120</td>\n",
       "      <td>apStar-r6-2M00001701+7052395.fits</td>\n",
       "      <td>4120/apStar-r6-2M00001701+7052395.fits</td>\n",
       "    </tr>\n",
       "    <tr>\n",
       "      <th>21</th>\n",
       "      <td>0</td>\n",
       "      <td>0</td>\n",
       "      <td>0</td>\n",
       "      <td>2M00001809+5939417</td>\n",
       "      <td>4424</td>\n",
       "      <td>apStar-r6-2M00001809+5939417.fits</td>\n",
       "      <td>4424/apStar-r6-2M00001809+5939417.fits</td>\n",
       "    </tr>\n",
       "    <tr>\n",
       "      <th>22</th>\n",
       "      <td>0</td>\n",
       "      <td>0</td>\n",
       "      <td>0</td>\n",
       "      <td>2M00001877+5938132</td>\n",
       "      <td>4424</td>\n",
       "      <td>apStar-r6-2M00001877+5938132.fits</td>\n",
       "      <td>4424/apStar-r6-2M00001877+5938132.fits</td>\n",
       "    </tr>\n",
       "    <tr>\n",
       "      <th>23</th>\n",
       "      <td>0</td>\n",
       "      <td>0</td>\n",
       "      <td>0</td>\n",
       "      <td>2M00001952+7026133</td>\n",
       "      <td>4120</td>\n",
       "      <td>apStar-r6-2M00001952+7026133.fits</td>\n",
       "      <td>4120/apStar-r6-2M00001952+7026133.fits</td>\n",
       "    </tr>\n",
       "    <tr>\n",
       "      <th>24</th>\n",
       "      <td>0</td>\n",
       "      <td>0</td>\n",
       "      <td>0</td>\n",
       "      <td>2M00001962+6502429</td>\n",
       "      <td>4591</td>\n",
       "      <td>apStar-r6-2M00001962+6502429.fits</td>\n",
       "      <td>4591/apStar-r6-2M00001962+6502429.fits</td>\n",
       "    </tr>\n",
       "    <tr>\n",
       "      <th>25</th>\n",
       "      <td>0</td>\n",
       "      <td>0</td>\n",
       "      <td>0</td>\n",
       "      <td>2M00002005+5703467</td>\n",
       "      <td>4264</td>\n",
       "      <td>apStar-r6-2M00002005+5703467.fits</td>\n",
       "      <td>4264/apStar-r6-2M00002005+5703467.fits</td>\n",
       "    </tr>\n",
       "    <tr>\n",
       "      <th>26</th>\n",
       "      <td>0</td>\n",
       "      <td>0</td>\n",
       "      <td>0</td>\n",
       "      <td>2M00002012+5612368</td>\n",
       "      <td>4264</td>\n",
       "      <td>apStar-r6-2M00002012+5612368.fits</td>\n",
       "      <td>4264/apStar-r6-2M00002012+5612368.fits</td>\n",
       "    </tr>\n",
       "    <tr>\n",
       "      <th>27</th>\n",
       "      <td>0</td>\n",
       "      <td>0</td>\n",
       "      <td>0</td>\n",
       "      <td>2M00002021+6302567</td>\n",
       "      <td>4591</td>\n",
       "      <td>apStar-r6-2M00002021+6302567.fits</td>\n",
       "      <td>4591/apStar-r6-2M00002021+6302567.fits</td>\n",
       "    </tr>\n",
       "    <tr>\n",
       "      <th>28</th>\n",
       "      <td>0</td>\n",
       "      <td>0</td>\n",
       "      <td>0</td>\n",
       "      <td>2M00002035+6250406</td>\n",
       "      <td>4591</td>\n",
       "      <td>apStar-r6-2M00002035+6250406.fits</td>\n",
       "      <td>4591/apStar-r6-2M00002035+6250406.fits</td>\n",
       "    </tr>\n",
       "    <tr>\n",
       "      <th>29</th>\n",
       "      <td>0</td>\n",
       "      <td>0</td>\n",
       "      <td>0</td>\n",
       "      <td>2M00002039+5651114</td>\n",
       "      <td>4424</td>\n",
       "      <td>apStar-r6-2M00002039+5651114.fits</td>\n",
       "      <td>4424/apStar-r6-2M00002039+5651114.fits</td>\n",
       "    </tr>\n",
       "    <tr>\n",
       "      <th>...</th>\n",
       "      <td>...</td>\n",
       "      <td>...</td>\n",
       "      <td>...</td>\n",
       "      <td>...</td>\n",
       "      <td>...</td>\n",
       "      <td>...</td>\n",
       "      <td>...</td>\n",
       "    </tr>\n",
       "    <tr>\n",
       "      <th>164531</th>\n",
       "      <td>0</td>\n",
       "      <td>0</td>\n",
       "      <td>0</td>\n",
       "      <td>2M23594252+5534278</td>\n",
       "      <td>4264</td>\n",
       "      <td>apStar-r6-2M23594252+5534278.fits</td>\n",
       "      <td>4264/apStar-r6-2M23594252+5534278.fits</td>\n",
       "    </tr>\n",
       "    <tr>\n",
       "      <th>164532</th>\n",
       "      <td>0</td>\n",
       "      <td>0</td>\n",
       "      <td>0</td>\n",
       "      <td>2M23594252+5848418</td>\n",
       "      <td>4424</td>\n",
       "      <td>apStar-r6-2M23594252+5848418.fits</td>\n",
       "      <td>4424/apStar-r6-2M23594252+5848418.fits</td>\n",
       "    </tr>\n",
       "    <tr>\n",
       "      <th>164533</th>\n",
       "      <td>0</td>\n",
       "      <td>0</td>\n",
       "      <td>0</td>\n",
       "      <td>2M23594481+1626355</td>\n",
       "      <td>4548</td>\n",
       "      <td>apStar-r6-2M23594481+1626355.fits</td>\n",
       "      <td>4548/apStar-r6-2M23594481+1626355.fits</td>\n",
       "    </tr>\n",
       "    <tr>\n",
       "      <th>164534</th>\n",
       "      <td>0</td>\n",
       "      <td>0</td>\n",
       "      <td>0</td>\n",
       "      <td>2M23594483+5723331</td>\n",
       "      <td>4264</td>\n",
       "      <td>apStar-r6-2M23594483+5723331.fits</td>\n",
       "      <td>4264/apStar-r6-2M23594483+5723331.fits</td>\n",
       "    </tr>\n",
       "    <tr>\n",
       "      <th>164535</th>\n",
       "      <td>0</td>\n",
       "      <td>0</td>\n",
       "      <td>0</td>\n",
       "      <td>2M23594559+6327260</td>\n",
       "      <td>4591</td>\n",
       "      <td>apStar-r6-2M23594559+6327260.fits</td>\n",
       "      <td>4591/apStar-r6-2M23594559+6327260.fits</td>\n",
       "    </tr>\n",
       "    <tr>\n",
       "      <th>164536</th>\n",
       "      <td>0</td>\n",
       "      <td>0</td>\n",
       "      <td>0</td>\n",
       "      <td>2M23594579+1451378</td>\n",
       "      <td>4548</td>\n",
       "      <td>apStar-r6-2M23594579+1451378.fits</td>\n",
       "      <td>4548/apStar-r6-2M23594579+1451378.fits</td>\n",
       "    </tr>\n",
       "    <tr>\n",
       "      <th>164537</th>\n",
       "      <td>0</td>\n",
       "      <td>0</td>\n",
       "      <td>0</td>\n",
       "      <td>2M23594620+1635572</td>\n",
       "      <td>4548</td>\n",
       "      <td>apStar-r6-2M23594620+1635572.fits</td>\n",
       "      <td>4548/apStar-r6-2M23594620+1635572.fits</td>\n",
       "    </tr>\n",
       "    <tr>\n",
       "      <th>164538</th>\n",
       "      <td>0</td>\n",
       "      <td>0</td>\n",
       "      <td>0</td>\n",
       "      <td>2M23594762+6220229</td>\n",
       "      <td>4591</td>\n",
       "      <td>apStar-r6-2M23594762+6220229.fits</td>\n",
       "      <td>4591/apStar-r6-2M23594762+6220229.fits</td>\n",
       "    </tr>\n",
       "    <tr>\n",
       "      <th>164539</th>\n",
       "      <td>0</td>\n",
       "      <td>0</td>\n",
       "      <td>0</td>\n",
       "      <td>2M23594776+1524307</td>\n",
       "      <td>4548</td>\n",
       "      <td>apStar-r6-2M23594776+1524307.fits</td>\n",
       "      <td>4548/apStar-r6-2M23594776+1524307.fits</td>\n",
       "    </tr>\n",
       "    <tr>\n",
       "      <th>164540</th>\n",
       "      <td>0</td>\n",
       "      <td>0</td>\n",
       "      <td>0</td>\n",
       "      <td>2M23594825+1639240</td>\n",
       "      <td>4548</td>\n",
       "      <td>apStar-r6-2M23594825+1639240.fits</td>\n",
       "      <td>4548/apStar-r6-2M23594825+1639240.fits</td>\n",
       "    </tr>\n",
       "    <tr>\n",
       "      <th>164541</th>\n",
       "      <td>0</td>\n",
       "      <td>0</td>\n",
       "      <td>0</td>\n",
       "      <td>2M23594838+1712500</td>\n",
       "      <td>4548</td>\n",
       "      <td>apStar-r6-2M23594838+1712500.fits</td>\n",
       "      <td>4548/apStar-r6-2M23594838+1712500.fits</td>\n",
       "    </tr>\n",
       "    <tr>\n",
       "      <th>164542</th>\n",
       "      <td>0</td>\n",
       "      <td>0</td>\n",
       "      <td>0</td>\n",
       "      <td>2M23594856+5530504</td>\n",
       "      <td>4264</td>\n",
       "      <td>apStar-r6-2M23594856+5530504.fits</td>\n",
       "      <td>4264/apStar-r6-2M23594856+5530504.fits</td>\n",
       "    </tr>\n",
       "    <tr>\n",
       "      <th>164543</th>\n",
       "      <td>0</td>\n",
       "      <td>0</td>\n",
       "      <td>0</td>\n",
       "      <td>2M23594866+6258182</td>\n",
       "      <td>4591</td>\n",
       "      <td>apStar-r6-2M23594866+6258182.fits</td>\n",
       "      <td>4591/apStar-r6-2M23594866+6258182.fits</td>\n",
       "    </tr>\n",
       "    <tr>\n",
       "      <th>164544</th>\n",
       "      <td>0</td>\n",
       "      <td>0</td>\n",
       "      <td>0</td>\n",
       "      <td>2M23594898+1540149</td>\n",
       "      <td>4548</td>\n",
       "      <td>apStar-r6-2M23594898+1540149.fits</td>\n",
       "      <td>4548/apStar-r6-2M23594898+1540149.fits</td>\n",
       "    </tr>\n",
       "    <tr>\n",
       "      <th>164545</th>\n",
       "      <td>0</td>\n",
       "      <td>0</td>\n",
       "      <td>0</td>\n",
       "      <td>2M23594945+1445256</td>\n",
       "      <td>4548</td>\n",
       "      <td>apStar-r6-2M23594945+1445256.fits</td>\n",
       "      <td>4548/apStar-r6-2M23594945+1445256.fits</td>\n",
       "    </tr>\n",
       "    <tr>\n",
       "      <th>164546</th>\n",
       "      <td>0</td>\n",
       "      <td>0</td>\n",
       "      <td>0</td>\n",
       "      <td>2M23594955+1529189</td>\n",
       "      <td>4548</td>\n",
       "      <td>apStar-r6-2M23594955+1529189.fits</td>\n",
       "      <td>4548/apStar-r6-2M23594955+1529189.fits</td>\n",
       "    </tr>\n",
       "    <tr>\n",
       "      <th>164547</th>\n",
       "      <td>0</td>\n",
       "      <td>0</td>\n",
       "      <td>0</td>\n",
       "      <td>2M23595073+1546583</td>\n",
       "      <td>4548</td>\n",
       "      <td>apStar-r6-2M23595073+1546583.fits</td>\n",
       "      <td>4548/apStar-r6-2M23595073+1546583.fits</td>\n",
       "    </tr>\n",
       "    <tr>\n",
       "      <th>164548</th>\n",
       "      <td>0</td>\n",
       "      <td>0</td>\n",
       "      <td>0</td>\n",
       "      <td>2M23595249+6307281</td>\n",
       "      <td>4591</td>\n",
       "      <td>apStar-r6-2M23595249+6307281.fits</td>\n",
       "      <td>4591/apStar-r6-2M23595249+6307281.fits</td>\n",
       "    </tr>\n",
       "    <tr>\n",
       "      <th>164549</th>\n",
       "      <td>0</td>\n",
       "      <td>0</td>\n",
       "      <td>0</td>\n",
       "      <td>2M23595252+1552337</td>\n",
       "      <td>4548</td>\n",
       "      <td>apStar-r6-2M23595252+1552337.fits</td>\n",
       "      <td>4548/apStar-r6-2M23595252+1552337.fits</td>\n",
       "    </tr>\n",
       "    <tr>\n",
       "      <th>164550</th>\n",
       "      <td>0</td>\n",
       "      <td>0</td>\n",
       "      <td>0</td>\n",
       "      <td>2M23595490+5704387</td>\n",
       "      <td>4264</td>\n",
       "      <td>apStar-r6-2M23595490+5704387.fits</td>\n",
       "      <td>4264/apStar-r6-2M23595490+5704387.fits</td>\n",
       "    </tr>\n",
       "    <tr>\n",
       "      <th>164551</th>\n",
       "      <td>0</td>\n",
       "      <td>0</td>\n",
       "      <td>0</td>\n",
       "      <td>2M23595538+6442561</td>\n",
       "      <td>4591</td>\n",
       "      <td>apStar-r6-2M23595538+6442561.fits</td>\n",
       "      <td>4591/apStar-r6-2M23595538+6442561.fits</td>\n",
       "    </tr>\n",
       "    <tr>\n",
       "      <th>164552</th>\n",
       "      <td>0</td>\n",
       "      <td>0</td>\n",
       "      <td>0</td>\n",
       "      <td>2M23595550+6402572</td>\n",
       "      <td>4591</td>\n",
       "      <td>apStar-r6-2M23595550+6402572.fits</td>\n",
       "      <td>4591/apStar-r6-2M23595550+6402572.fits</td>\n",
       "    </tr>\n",
       "    <tr>\n",
       "      <th>164553</th>\n",
       "      <td>0</td>\n",
       "      <td>0</td>\n",
       "      <td>0</td>\n",
       "      <td>2M23595551+5522253</td>\n",
       "      <td>4264</td>\n",
       "      <td>apStar-r6-2M23595551+5522253.fits</td>\n",
       "      <td>4264/apStar-r6-2M23595551+5522253.fits</td>\n",
       "    </tr>\n",
       "    <tr>\n",
       "      <th>164554</th>\n",
       "      <td>0</td>\n",
       "      <td>0</td>\n",
       "      <td>0</td>\n",
       "      <td>2M23595553+6339020</td>\n",
       "      <td>4591</td>\n",
       "      <td>apStar-r6-2M23595553+6339020.fits</td>\n",
       "      <td>4591/apStar-r6-2M23595553+6339020.fits</td>\n",
       "    </tr>\n",
       "    <tr>\n",
       "      <th>164555</th>\n",
       "      <td>0</td>\n",
       "      <td>0</td>\n",
       "      <td>1</td>\n",
       "      <td>2M23595589+1508091</td>\n",
       "      <td>4548</td>\n",
       "      <td>apStar-r6-2M23595589+1508091.fits</td>\n",
       "      <td>4548/apStar-r6-2M23595589+1508091.fits</td>\n",
       "    </tr>\n",
       "    <tr>\n",
       "      <th>164556</th>\n",
       "      <td>0</td>\n",
       "      <td>0</td>\n",
       "      <td>0</td>\n",
       "      <td>2M23595591+6243276</td>\n",
       "      <td>4591</td>\n",
       "      <td>apStar-r6-2M23595591+6243276.fits</td>\n",
       "      <td>4591/apStar-r6-2M23595591+6243276.fits</td>\n",
       "    </tr>\n",
       "    <tr>\n",
       "      <th>164557</th>\n",
       "      <td>0</td>\n",
       "      <td>0</td>\n",
       "      <td>0</td>\n",
       "      <td>2M23595667+1452170</td>\n",
       "      <td>4548</td>\n",
       "      <td>apStar-r6-2M23595667+1452170.fits</td>\n",
       "      <td>4548/apStar-r6-2M23595667+1452170.fits</td>\n",
       "    </tr>\n",
       "    <tr>\n",
       "      <th>164558</th>\n",
       "      <td>0</td>\n",
       "      <td>0</td>\n",
       "      <td>0</td>\n",
       "      <td>2M23595837+5700444</td>\n",
       "      <td>4264</td>\n",
       "      <td>apStar-r6-2M23595837+5700444.fits</td>\n",
       "      <td>4264/apStar-r6-2M23595837+5700444.fits</td>\n",
       "    </tr>\n",
       "    <tr>\n",
       "      <th>164559</th>\n",
       "      <td>0</td>\n",
       "      <td>0</td>\n",
       "      <td>0</td>\n",
       "      <td>2M23595886+5726058</td>\n",
       "      <td>4424</td>\n",
       "      <td>apStar-r6-2M23595886+5726058.fits</td>\n",
       "      <td>4424/apStar-r6-2M23595886+5726058.fits</td>\n",
       "    </tr>\n",
       "    <tr>\n",
       "      <th>164560</th>\n",
       "      <td>0</td>\n",
       "      <td>0</td>\n",
       "      <td>0</td>\n",
       "      <td>2M23595980+1528407</td>\n",
       "      <td>4548</td>\n",
       "      <td>apStar-r6-2M23595980+1528407.fits</td>\n",
       "      <td>4548/apStar-r6-2M23595980+1528407.fits</td>\n",
       "    </tr>\n",
       "  </tbody>\n",
       "</table>\n",
       "<p>164561 rows × 7 columns</p>\n",
       "</div>"
      ],
      "text/plain": [
       "        0  0.1  0.2               VESTA     1  \\\n",
       "0       0    0    0  2M00000032+5737103  4424   \n",
       "1       0    0    0  2M00000032+5737103  4264   \n",
       "2       0    0    0  2M00000068+5710233  4264   \n",
       "3       0    0    0  2M00000211+6327470  4591   \n",
       "4       0    0    0  2M00000222+5625359  4264   \n",
       "5       0    0    0  2M00000233+1452324  4548   \n",
       "6       0    0    0  2M00000317+5821383  4424   \n",
       "7       0    0    0  2M00000446+5854329  4424   \n",
       "8       0    0    0  2M00000535+1504343  4548   \n",
       "9       0    0    0  2M00000662+7528598  4287   \n",
       "10      0    0    0  2M00000797+6436119  4591   \n",
       "11      0    0    0  2M00000818+5634264  4264   \n",
       "12      0    0    0  2M00000866+7122144  4120   \n",
       "13      0    0    0  2M00001104+6348085  4591   \n",
       "14      0    0    0  2M00001242+5524391  4264   \n",
       "15      0    0    0  2M00001296+5851378  4424   \n",
       "16      0    0    0  2M00001328+5725563  4264   \n",
       "17      0    0    0  2M00001616+1606151  4548   \n",
       "18      0    0    0  2M00001653+5540107  4264   \n",
       "19      0    0    0  2M00001687+5903034  4424   \n",
       "20      0    0    0  2M00001701+7052395  4120   \n",
       "21      0    0    0  2M00001809+5939417  4424   \n",
       "22      0    0    0  2M00001877+5938132  4424   \n",
       "23      0    0    0  2M00001952+7026133  4120   \n",
       "24      0    0    0  2M00001962+6502429  4591   \n",
       "25      0    0    0  2M00002005+5703467  4264   \n",
       "26      0    0    0  2M00002012+5612368  4264   \n",
       "27      0    0    0  2M00002021+6302567  4591   \n",
       "28      0    0    0  2M00002035+6250406  4591   \n",
       "29      0    0    0  2M00002039+5651114  4424   \n",
       "...    ..  ...  ...                 ...   ...   \n",
       "164531  0    0    0  2M23594252+5534278  4264   \n",
       "164532  0    0    0  2M23594252+5848418  4424   \n",
       "164533  0    0    0  2M23594481+1626355  4548   \n",
       "164534  0    0    0  2M23594483+5723331  4264   \n",
       "164535  0    0    0  2M23594559+6327260  4591   \n",
       "164536  0    0    0  2M23594579+1451378  4548   \n",
       "164537  0    0    0  2M23594620+1635572  4548   \n",
       "164538  0    0    0  2M23594762+6220229  4591   \n",
       "164539  0    0    0  2M23594776+1524307  4548   \n",
       "164540  0    0    0  2M23594825+1639240  4548   \n",
       "164541  0    0    0  2M23594838+1712500  4548   \n",
       "164542  0    0    0  2M23594856+5530504  4264   \n",
       "164543  0    0    0  2M23594866+6258182  4591   \n",
       "164544  0    0    0  2M23594898+1540149  4548   \n",
       "164545  0    0    0  2M23594945+1445256  4548   \n",
       "164546  0    0    0  2M23594955+1529189  4548   \n",
       "164547  0    0    0  2M23595073+1546583  4548   \n",
       "164548  0    0    0  2M23595249+6307281  4591   \n",
       "164549  0    0    0  2M23595252+1552337  4548   \n",
       "164550  0    0    0  2M23595490+5704387  4264   \n",
       "164551  0    0    0  2M23595538+6442561  4591   \n",
       "164552  0    0    0  2M23595550+6402572  4591   \n",
       "164553  0    0    0  2M23595551+5522253  4264   \n",
       "164554  0    0    0  2M23595553+6339020  4591   \n",
       "164555  0    0    1  2M23595589+1508091  4548   \n",
       "164556  0    0    0  2M23595591+6243276  4591   \n",
       "164557  0    0    0  2M23595667+1452170  4548   \n",
       "164558  0    0    0  2M23595837+5700444  4264   \n",
       "164559  0    0    0  2M23595886+5726058  4424   \n",
       "164560  0    0    0  2M23595980+1528407  4548   \n",
       "\n",
       "                     apStar-r6-VESTA.fits  \\\n",
       "0       apStar-r6-2M00000032+5737103.fits   \n",
       "1       apStar-r6-2M00000032+5737103.fits   \n",
       "2       apStar-r6-2M00000068+5710233.fits   \n",
       "3       apStar-r6-2M00000211+6327470.fits   \n",
       "4       apStar-r6-2M00000222+5625359.fits   \n",
       "5       apStar-r6-2M00000233+1452324.fits   \n",
       "6       apStar-r6-2M00000317+5821383.fits   \n",
       "7       apStar-r6-2M00000446+5854329.fits   \n",
       "8       apStar-r6-2M00000535+1504343.fits   \n",
       "9       apStar-r6-2M00000662+7528598.fits   \n",
       "10      apStar-r6-2M00000797+6436119.fits   \n",
       "11      apStar-r6-2M00000818+5634264.fits   \n",
       "12      apStar-r6-2M00000866+7122144.fits   \n",
       "13      apStar-r6-2M00001104+6348085.fits   \n",
       "14      apStar-r6-2M00001242+5524391.fits   \n",
       "15      apStar-r6-2M00001296+5851378.fits   \n",
       "16      apStar-r6-2M00001328+5725563.fits   \n",
       "17      apStar-r6-2M00001616+1606151.fits   \n",
       "18      apStar-r6-2M00001653+5540107.fits   \n",
       "19      apStar-r6-2M00001687+5903034.fits   \n",
       "20      apStar-r6-2M00001701+7052395.fits   \n",
       "21      apStar-r6-2M00001809+5939417.fits   \n",
       "22      apStar-r6-2M00001877+5938132.fits   \n",
       "23      apStar-r6-2M00001952+7026133.fits   \n",
       "24      apStar-r6-2M00001962+6502429.fits   \n",
       "25      apStar-r6-2M00002005+5703467.fits   \n",
       "26      apStar-r6-2M00002012+5612368.fits   \n",
       "27      apStar-r6-2M00002021+6302567.fits   \n",
       "28      apStar-r6-2M00002035+6250406.fits   \n",
       "29      apStar-r6-2M00002039+5651114.fits   \n",
       "...                                   ...   \n",
       "164531  apStar-r6-2M23594252+5534278.fits   \n",
       "164532  apStar-r6-2M23594252+5848418.fits   \n",
       "164533  apStar-r6-2M23594481+1626355.fits   \n",
       "164534  apStar-r6-2M23594483+5723331.fits   \n",
       "164535  apStar-r6-2M23594559+6327260.fits   \n",
       "164536  apStar-r6-2M23594579+1451378.fits   \n",
       "164537  apStar-r6-2M23594620+1635572.fits   \n",
       "164538  apStar-r6-2M23594762+6220229.fits   \n",
       "164539  apStar-r6-2M23594776+1524307.fits   \n",
       "164540  apStar-r6-2M23594825+1639240.fits   \n",
       "164541  apStar-r6-2M23594838+1712500.fits   \n",
       "164542  apStar-r6-2M23594856+5530504.fits   \n",
       "164543  apStar-r6-2M23594866+6258182.fits   \n",
       "164544  apStar-r6-2M23594898+1540149.fits   \n",
       "164545  apStar-r6-2M23594945+1445256.fits   \n",
       "164546  apStar-r6-2M23594955+1529189.fits   \n",
       "164547  apStar-r6-2M23595073+1546583.fits   \n",
       "164548  apStar-r6-2M23595249+6307281.fits   \n",
       "164549  apStar-r6-2M23595252+1552337.fits   \n",
       "164550  apStar-r6-2M23595490+5704387.fits   \n",
       "164551  apStar-r6-2M23595538+6442561.fits   \n",
       "164552  apStar-r6-2M23595550+6402572.fits   \n",
       "164553  apStar-r6-2M23595551+5522253.fits   \n",
       "164554  apStar-r6-2M23595553+6339020.fits   \n",
       "164555  apStar-r6-2M23595589+1508091.fits   \n",
       "164556  apStar-r6-2M23595591+6243276.fits   \n",
       "164557  apStar-r6-2M23595667+1452170.fits   \n",
       "164558  apStar-r6-2M23595837+5700444.fits   \n",
       "164559  apStar-r6-2M23595886+5726058.fits   \n",
       "164560  apStar-r6-2M23595980+1528407.fits   \n",
       "\n",
       "                        1/apStar-r6-VESTA.fits  \n",
       "0       4424/apStar-r6-2M00000032+5737103.fits  \n",
       "1       4264/apStar-r6-2M00000032+5737103.fits  \n",
       "2       4264/apStar-r6-2M00000068+5710233.fits  \n",
       "3       4591/apStar-r6-2M00000211+6327470.fits  \n",
       "4       4264/apStar-r6-2M00000222+5625359.fits  \n",
       "5       4548/apStar-r6-2M00000233+1452324.fits  \n",
       "6       4424/apStar-r6-2M00000317+5821383.fits  \n",
       "7       4424/apStar-r6-2M00000446+5854329.fits  \n",
       "8       4548/apStar-r6-2M00000535+1504343.fits  \n",
       "9       4287/apStar-r6-2M00000662+7528598.fits  \n",
       "10      4591/apStar-r6-2M00000797+6436119.fits  \n",
       "11      4264/apStar-r6-2M00000818+5634264.fits  \n",
       "12      4120/apStar-r6-2M00000866+7122144.fits  \n",
       "13      4591/apStar-r6-2M00001104+6348085.fits  \n",
       "14      4264/apStar-r6-2M00001242+5524391.fits  \n",
       "15      4424/apStar-r6-2M00001296+5851378.fits  \n",
       "16      4264/apStar-r6-2M00001328+5725563.fits  \n",
       "17      4548/apStar-r6-2M00001616+1606151.fits  \n",
       "18      4264/apStar-r6-2M00001653+5540107.fits  \n",
       "19      4424/apStar-r6-2M00001687+5903034.fits  \n",
       "20      4120/apStar-r6-2M00001701+7052395.fits  \n",
       "21      4424/apStar-r6-2M00001809+5939417.fits  \n",
       "22      4424/apStar-r6-2M00001877+5938132.fits  \n",
       "23      4120/apStar-r6-2M00001952+7026133.fits  \n",
       "24      4591/apStar-r6-2M00001962+6502429.fits  \n",
       "25      4264/apStar-r6-2M00002005+5703467.fits  \n",
       "26      4264/apStar-r6-2M00002012+5612368.fits  \n",
       "27      4591/apStar-r6-2M00002021+6302567.fits  \n",
       "28      4591/apStar-r6-2M00002035+6250406.fits  \n",
       "29      4424/apStar-r6-2M00002039+5651114.fits  \n",
       "...                                        ...  \n",
       "164531  4264/apStar-r6-2M23594252+5534278.fits  \n",
       "164532  4424/apStar-r6-2M23594252+5848418.fits  \n",
       "164533  4548/apStar-r6-2M23594481+1626355.fits  \n",
       "164534  4264/apStar-r6-2M23594483+5723331.fits  \n",
       "164535  4591/apStar-r6-2M23594559+6327260.fits  \n",
       "164536  4548/apStar-r6-2M23594579+1451378.fits  \n",
       "164537  4548/apStar-r6-2M23594620+1635572.fits  \n",
       "164538  4591/apStar-r6-2M23594762+6220229.fits  \n",
       "164539  4548/apStar-r6-2M23594776+1524307.fits  \n",
       "164540  4548/apStar-r6-2M23594825+1639240.fits  \n",
       "164541  4548/apStar-r6-2M23594838+1712500.fits  \n",
       "164542  4264/apStar-r6-2M23594856+5530504.fits  \n",
       "164543  4591/apStar-r6-2M23594866+6258182.fits  \n",
       "164544  4548/apStar-r6-2M23594898+1540149.fits  \n",
       "164545  4548/apStar-r6-2M23594945+1445256.fits  \n",
       "164546  4548/apStar-r6-2M23594955+1529189.fits  \n",
       "164547  4548/apStar-r6-2M23595073+1546583.fits  \n",
       "164548  4591/apStar-r6-2M23595249+6307281.fits  \n",
       "164549  4548/apStar-r6-2M23595252+1552337.fits  \n",
       "164550  4264/apStar-r6-2M23595490+5704387.fits  \n",
       "164551  4591/apStar-r6-2M23595538+6442561.fits  \n",
       "164552  4591/apStar-r6-2M23595550+6402572.fits  \n",
       "164553  4264/apStar-r6-2M23595551+5522253.fits  \n",
       "164554  4591/apStar-r6-2M23595553+6339020.fits  \n",
       "164555  4548/apStar-r6-2M23595589+1508091.fits  \n",
       "164556  4591/apStar-r6-2M23595591+6243276.fits  \n",
       "164557  4548/apStar-r6-2M23595667+1452170.fits  \n",
       "164558  4264/apStar-r6-2M23595837+5700444.fits  \n",
       "164559  4424/apStar-r6-2M23595886+5726058.fits  \n",
       "164560  4548/apStar-r6-2M23595980+1528407.fits  \n",
       "\n",
       "[164561 rows x 7 columns]"
      ]
     },
     "execution_count": 8,
     "metadata": {},
     "output_type": "execute_result"
    }
   ],
   "source": [
    "y"
   ]
  },
  {
   "cell_type": "code",
   "execution_count": 9,
   "metadata": {
    "collapsed": true
   },
   "outputs": [],
   "source": [
    "dr13_apoID = y['VESTA']\n",
    "dr13_locID = y['1']"
   ]
  },
  {
   "cell_type": "code",
   "execution_count": 10,
   "metadata": {},
   "outputs": [
    {
     "name": "stdout",
     "output_type": "stream",
     "text": [
      "38\n"
     ]
    }
   ],
   "source": [
    "path = y['1/apStar-r6-VESTA.fits']\n",
    "print(len(path[0]))"
   ]
  },
  {
   "cell_type": "markdown",
   "metadata": {},
   "source": [
    "### Remove all apStarC files by comparing string lengths"
   ]
  },
  {
   "cell_type": "code",
   "execution_count": 11,
   "metadata": {
    "collapsed": true
   },
   "outputs": [],
   "source": [
    "dr13apogeeIDs = []\n",
    "dr13locationIDs = []\n",
    "for i in range(len(dr13_apoID)):\n",
    "    if len(path[i]) != 39:\n",
    "        dr13apogeeIDs.append(dr13_apoID[i])\n",
    "        dr13locationIDs.append(dr13_locID[i])"
   ]
  },
  {
   "cell_type": "code",
   "execution_count": 12,
   "metadata": {},
   "outputs": [
    {
     "name": "stdout",
     "output_type": "stream",
     "text": [
      "152644\n"
     ]
    }
   ],
   "source": [
    "print(len(dr13apogeeIDs))"
   ]
  },
  {
   "cell_type": "markdown",
   "metadata": {},
   "source": [
    "### Only store the actual binaries into an array for later use.\n",
    "Here, I am removing the stars that had a '0' as an identifier. This indicates the star has been visually confirmed to be a non-binary."
   ]
  },
  {
   "cell_type": "code",
   "execution_count": 13,
   "metadata": {},
   "outputs": [
    {
     "name": "stdout",
     "output_type": "stream",
     "text": [
      "1071\n"
     ]
    }
   ],
   "source": [
    "KC_apogeeIDs = []\n",
    "KC_locationIDs = []\n",
    "\n",
    "for i in range(len(KC_apoID)):\n",
    "    if IND[i] != 0:\n",
    "        KC_apogeeIDs.append(KC_apoID[i])\n",
    "        KC_locationIDs.append(KC_locID[i])\n",
    "print(len(KC_apogeeIDs))"
   ]
  },
  {
   "cell_type": "markdown",
   "metadata": {},
   "source": [
    "### Match the KC sources with that in the master list "
   ]
  },
  {
   "cell_type": "code",
   "execution_count": 14,
   "metadata": {
    "collapsed": true
   },
   "outputs": [],
   "source": [
    "match_apoID = []\n",
    "match_locID = []\n",
    "match_path = []\n",
    "\n",
    "for j in range(len(KC_apogeeIDs)):\n",
    "    name = KC_apogeeIDs[j]\n",
    "    indx = list(dr13_apoID).index(name)\n",
    "    match_apoID.append(dr13_apoID[indx])\n",
    "    match_locID.append(dr13_locID[indx])\n",
    "    match_path.append(path[indx])"
   ]
  },
  {
   "cell_type": "code",
   "execution_count": 15,
   "metadata": {
    "collapsed": true
   },
   "outputs": [],
   "source": [
    "KCApoID = []\n",
    "KCLocID = []\n",
    "\n",
    "for p in range(len(match_path)):\n",
    "    if len(match_path[p]) != 39:\n",
    "        KCApoID.append(match_apoID[p])\n",
    "        KCLocID.append(match_locID[p])"
   ]
  },
  {
   "cell_type": "code",
   "execution_count": 16,
   "metadata": {},
   "outputs": [
    {
     "name": "stdout",
     "output_type": "stream",
     "text": [
      "992\n"
     ]
    }
   ],
   "source": [
    "print(len(KCApoID))"
   ]
  },
  {
   "cell_type": "markdown",
   "metadata": {},
   "source": [
    "### Read in DR13 AllStar File"
   ]
  },
  {
   "cell_type": "code",
   "execution_count": 17,
   "metadata": {
    "collapsed": true
   },
   "outputs": [],
   "source": [
    "allStar = apread.allStar(rmcommissioning=True,main=False,ak=True, akvers = 'targ', adddist=False)"
   ]
  },
  {
   "cell_type": "code",
   "execution_count": 18,
   "metadata": {
    "collapsed": true
   },
   "outputs": [],
   "source": [
    "locationIDs = allStar['LOCATION_ID']\n",
    "apogeeIDs = allStar['APOGEE_ID']\n",
    "J_filter = allStar['J']\n",
    "J_filterr = allStar['J_ERR']\n",
    "H_filter = allStar['H']\n",
    "H_filterr = allStar['H_ERR']\n",
    "K_filter = allStar['K']\n",
    "K_filterr = allStar['K_ERR']\n",
    "SNRs = allStar['SNR']\n",
    "WISE_4_5 = allStar['WISE_4_5']"
   ]
  },
  {
   "cell_type": "markdown",
   "metadata": {},
   "source": [
    "### Remove the 'bit' from the apogee IDs"
   ]
  },
  {
   "cell_type": "code",
   "execution_count": 19,
   "metadata": {
    "collapsed": true
   },
   "outputs": [],
   "source": [
    "apogeeID = [s.decode('utf-8') for s in apogeeIDs]"
   ]
  },
  {
   "cell_type": "code",
   "execution_count": 20,
   "metadata": {},
   "outputs": [
    {
     "name": "stdout",
     "output_type": "stream",
     "text": [
      "2M00000032+5737103\n"
     ]
    }
   ],
   "source": [
    "ApogeeIDs = []\n",
    "for b in range(len(apogeeID)):\n",
    "    v = apogeeID[b].strip()\n",
    "    ApogeeIDs.append(v)\n",
    "print(ApogeeIDs[0])"
   ]
  },
  {
   "cell_type": "markdown",
   "metadata": {},
   "source": [
    "### Find the J,K, and H values that correspond to KC binaries"
   ]
  },
  {
   "cell_type": "code",
   "execution_count": 21,
   "metadata": {
    "collapsed": true
   },
   "outputs": [],
   "source": [
    "KCapoID = []\n",
    "KClocID = []\n",
    "KC_J = []\n",
    "KC_K = []\n",
    "KC_H = []\n",
    "\n",
    "for u in range(len(KCApoID)):\n",
    "    names = KCApoID[u]\n",
    "    try:\n",
    "        indxs = list(ApogeeIDs).index(names)\n",
    "        KCapoID.append(ApogeeIDs[indxs])\n",
    "        KClocID.append(locationIDs[indxs])\n",
    "        KC_K.append(K_filter[indxs])\n",
    "        KC_J.append(J_filter[indxs])\n",
    "        KC_H.append(H_filter[indxs])\n",
    "    except ValueError:\n",
    "        pass  "
   ]
  },
  {
   "cell_type": "code",
   "execution_count": 22,
   "metadata": {},
   "outputs": [
    {
     "name": "stdout",
     "output_type": "stream",
     "text": [
      "905\n"
     ]
    }
   ],
   "source": [
    "print(len(KCapoID))"
   ]
  },
  {
   "cell_type": "code",
   "execution_count": 23,
   "metadata": {
    "collapsed": true
   },
   "outputs": [],
   "source": [
    "KC_jh = []\n",
    "KC_hk = []\n",
    "for g in range(len(KC_J)):\n",
    "    a = KC_J[g] - KC_H[g]\n",
    "    b = KC_H[g] - KC_K[g]\n",
    "    KC_jh.append(a)\n",
    "    KC_hk.append(b)   "
   ]
  },
  {
   "cell_type": "code",
   "execution_count": 24,
   "metadata": {},
   "outputs": [
    {
     "name": "stdout",
     "output_type": "stream",
     "text": [
      "905\n"
     ]
    }
   ],
   "source": [
    "print(len(KC_hk))"
   ]
  },
  {
   "cell_type": "markdown",
   "metadata": {},
   "source": [
    "### Read in the M-Dwarfs"
   ]
  },
  {
   "cell_type": "code",
   "execution_count": 25,
   "metadata": {},
   "outputs": [
    {
     "name": "stdout",
     "output_type": "stream",
     "text": [
      "[False False False ..., False False False]\n",
      "155632\n"
     ]
    }
   ],
   "source": [
    "mdwarf_indx = bitmask.bit_set(19,allStar['APOGEE_TARGET1'])\n",
    "print(mdwarf_indx)\n",
    "\n",
    "mdwarf_index = []\n",
    "for z in range(len(mdwarf_indx)):\n",
    "    b = mdwarf_indx[z]*1\n",
    "    mdwarf_index.append(b)\n",
    "#print(mdwarf_index)\n",
    "from collections import Counter\n",
    "Counter(mdwarf_index)\n",
    "print(len(mdwarf_index))"
   ]
  },
  {
   "cell_type": "code",
   "execution_count": 26,
   "metadata": {},
   "outputs": [
    {
     "data": {
      "text/plain": [
       "Counter({False: 154882, True: 750})"
      ]
     },
     "execution_count": 26,
     "metadata": {},
     "output_type": "execute_result"
    }
   ],
   "source": [
    "from collections import Counter\n",
    "Counter(mdwarf_indx)"
   ]
  },
  {
   "cell_type": "code",
   "execution_count": 27,
   "metadata": {
    "collapsed": true
   },
   "outputs": [],
   "source": [
    "mlocation_IDs = []\n",
    "mapogee_IDs = []\n",
    "mJ = []\n",
    "mJ_err = []\n",
    "mH = []\n",
    "mH_err = []\n",
    "mK = []\n",
    "mK_err = []\n",
    "mSNR = []\n",
    "mwise = []\n",
    "\n",
    "\n",
    "for i in range(len(mdwarf_index)):\n",
    "    if mdwarf_index[i] == 1:\n",
    "        l = locationIDs[i]\n",
    "        a = apogeeIDs[i]\n",
    "        j = J_filter[i]\n",
    "        h = H_filter[i]\n",
    "        k = K_filter[i]\n",
    "        j_err = J_filterr[i]\n",
    "        h_err = H_filterr[i]\n",
    "        k_err = K_filterr[i]\n",
    "        s = SNRs[i]\n",
    "        w = WISE_4_5[i]\n",
    "        mlocation_IDs.append(l)\n",
    "        mapogee_IDs.append(a)\n",
    "        mJ.append(j)\n",
    "        mH.append(h)\n",
    "        mK.append(k)\n",
    "        mJ_err.append(j_err)\n",
    "        mH_err.append(h_err)\n",
    "        mK_err.append(k_err)\n",
    "        mSNR.append(s)\n",
    "        mwise.append(w)"
   ]
  },
  {
   "cell_type": "code",
   "execution_count": 28,
   "metadata": {},
   "outputs": [
    {
     "name": "stdout",
     "output_type": "stream",
     "text": [
      "750\n"
     ]
    }
   ],
   "source": [
    "print(len(mJ))"
   ]
  },
  {
   "cell_type": "markdown",
   "metadata": {},
   "source": [
    "### Find how many binaries are m-dwarfs and overplot these"
   ]
  },
  {
   "cell_type": "code",
   "execution_count": 29,
   "metadata": {
    "collapsed": true
   },
   "outputs": [],
   "source": [
    "mkc_apoID = []\n",
    "mkc_locID = []\n",
    "mkcj = []\n",
    "mkch = []\n",
    "mkck = []\n",
    "\n",
    "for cc in range(len(KCApoID)):\n",
    "    Name = KCApoID[cc]\n",
    "    try:\n",
    "        match = list(mlocation_IDs).index(Name)\n",
    "        mkc_apoID.append(mapogee_IDs[match])\n",
    "        mkc_locID.append(mlocation_IDs[match])\n",
    "        mkck.append(mK[match])\n",
    "        mkcj.append(mJ[match])\n",
    "        mkch.append(mH[match])\n",
    "    except ValueError:\n",
    "        pass "
   ]
  },
  {
   "cell_type": "code",
   "execution_count": 30,
   "metadata": {},
   "outputs": [
    {
     "name": "stdout",
     "output_type": "stream",
     "text": [
      "0\n"
     ]
    }
   ],
   "source": [
    "print(len(mkch))"
   ]
  },
  {
   "cell_type": "markdown",
   "metadata": {},
   "source": [
    "### Plotting M-dwarfs and identified binaries over all of DR13"
   ]
  },
  {
   "cell_type": "code",
   "execution_count": 31,
   "metadata": {},
   "outputs": [
    {
     "data": {
      "image/png": "[encoded data removed]",
      "text/plain": [
       "<matplotlib.figure.Figure at 0x10a8407b8>"
      ]
     },
     "metadata": {},
     "output_type": "display_data"
    }
   ],
   "source": [
    "jh = []\n",
    "hk = []\n",
    "\n",
    "for y in range(len(J_filter)):\n",
    "    x = J_filter[y] - H_filter[y]\n",
    "    z = H_filter[y] - K_filter[y]\n",
    "    jh.append(x)\n",
    "    hk.append(z)\n",
    "    \n",
    "mjh = []\n",
    "mhk = []\n",
    "for n in range(len(mJ)):\n",
    "    aa = mJ[n] - mH[n]\n",
    "    bb = mH[n] - mK[n]\n",
    "    mjh.append(aa)\n",
    "    mhk.append(bb)\n",
    "    \n",
    "plt.figure(figsize=(8,6))\n",
    "plt.scatter(hk,jh,s=1.0,color='gray',label='DR13',alpha=0.5)\n",
    "plt.scatter(KC_hk,KC_jh,s=1.0,color='red',label='KC binaries in DR13')\n",
    "plt.scatter(mhk,mjh,s=1.0,color='blue',label='M-dwarfs in DR13')\n",
    "plt.xlabel('H-K')\n",
    "plt.ylabel('J-H')\n",
    "pl.legend(loc='lower right')\n",
    "plt.title('J-H vs H-K with M-dwarfs Highlighted')\n",
    "plt.savefig('CC_HK_vs_JH.pdf',dpi=1000)\n",
    "plt.show()"
   ]
  },
  {
   "cell_type": "code",
   "execution_count": 32,
   "metadata": {},
   "outputs": [
    {
     "data": {
      "image/png": "[encoded data removed]",
      "text/plain": [
       "<matplotlib.figure.Figure at 0x11b606ef0>"
      ]
     },
     "metadata": {},
     "output_type": "display_data"
    }
   ],
   "source": [
    "#Just the binaries and all of DR13\n",
    "plt.figure(figsize=(8,6))\n",
    "plt.scatter(hk,jh,s=0.80,color='gray',label='DR13',alpha=1.0)\n",
    "plt.scatter(KC_hk,KC_jh,s=1.0,color='red',label='KC binaries in DR13')\n",
    "#plt.scatter(mhk,mjh,s=1.0,color='blue',label='M-dwarfs in DR13')\n",
    "plt.xlabel('H-K')\n",
    "plt.ylabel('J-H')\n",
    "pl.legend(loc='lower right')\n",
    "plt.title('J-H vs H-K without M-dwarfs Highlighted')\n",
    "plt.savefig('CC_HK_vs_JH_noMD.pdf',dpi=1000)\n",
    "plt.show()"
   ]
  },
  {
   "cell_type": "markdown",
   "metadata": {},
   "source": [
    "### Compare the M-Dwarfs to the KC Binaries"
   ]
  },
  {
   "cell_type": "code",
   "execution_count": 33,
   "metadata": {},
   "outputs": [
    {
     "data": {
      "image/png": "[encoded data removed]",
      "text/plain": [
       "<matplotlib.figure.Figure at 0x116340710>"
      ]
     },
     "metadata": {},
     "output_type": "display_data"
    }
   ],
   "source": [
    "plt.scatter(KC_hk,KC_jh,s=1.0,color='blue',label='KC binaries in DR13')\n",
    "plt.scatter(mhk,mjh,s=1.0,color='orange',label='M-dwarfs in DR13')\n",
    "plt.xlabel('H-K')\n",
    "plt.ylabel('J-H')\n",
    "pl.legend(loc='lower right')\n",
    "plt.title('CCD for J-H vs H-K')\n",
    "plt.savefig('MD_vs_KC_CCD',dpi=1000)\n",
    "plt.show()"
   ]
  },
  {
   "cell_type": "markdown",
   "metadata": {},
   "source": [
    "### 2D Histogram of DR13 stars"
   ]
  },
  {
   "cell_type": "code",
   "execution_count": 34,
   "metadata": {},
   "outputs": [
    {
     "data": {
      "image/png": "[encoded data removed]",
      "text/plain": [
       "<matplotlib.figure.Figure at 0x11a36a9e8>"
      ]
     },
     "metadata": {},
     "output_type": "display_data"
    },
    {
     "data": {
      "image/png": "[encoded data removed]",
      "text/plain": [
       "<matplotlib.figure.Figure at 0x11a455940>"
      ]
     },
     "metadata": {},
     "output_type": "display_data"
    }
   ],
   "source": [
    "from matplotlib.colors import LogNorm\n",
    "\n",
    "#Hexbin 2D histogram\n",
    "fig, ax = plt.subplots()\n",
    "im = ax.hexbin(hk,jh,gridsize=30,norm=LogNorm())\n",
    "fig.colorbar(im,ax=ax)\n",
    "\n",
    "#Normal 2D histogram\n",
    "fig, ax = plt.subplots()\n",
    "H = ax.hist2d(hk,jh,bins=(30,30),norm=LogNorm())\n",
    "fig.colorbar(H[3],ax=ax)\n",
    "plt.show()"
   ]
  },
  {
   "cell_type": "markdown",
   "metadata": {},
   "source": [
    "#### Attempting to make contours of above"
   ]
  },
  {
   "cell_type": "markdown",
   "metadata": {},
   "source": [
    "### Let's try using a package that Jacob recommended for dealing with histograms and contour plots!"
   ]
  },
  {
   "cell_type": "code",
   "execution_count": 125,
   "metadata": {
    "scrolled": false
   },
   "outputs": [
    {
     "name": "stdout",
     "output_type": "stream",
     "text": [
      "(155632, 2)\n",
      "[ 0.15200043  0.2699995 ]\n"
     ]
    }
   ],
   "source": [
    "Data = np.vstack([hk,jh]).T\n",
    "type(Data)\n",
    "print(Data.shape)\n",
    "print(Data[0])"
   ]
  },
  {
   "cell_type": "markdown",
   "metadata": {},
   "source": [
    "### Plot the 2D histogram with the 1D histograms of H-K and J-H to look at distribution"
   ]
  },
  {
   "cell_type": "code",
   "execution_count": 137,
   "metadata": {},
   "outputs": [
    {
     "data": {
      "image/png": "[encoded data removed]",
      "text/plain": [
       "<matplotlib.figure.Figure at 0x12d2dbfd0>"
      ]
     },
     "metadata": {},
     "output_type": "display_data"
    }
   ],
   "source": [
    "import corner\n",
    "labels = ['H-K','J-H']\n",
    "Bounds = [np.amin(Data),np.amax(Data)]\n",
    "\n",
    "fig = corner.corner(Data,bins=50,labels=labels,smooth=1.2,show_titles=True,scale_hist=True,\n",
    "                    plot_contours=True,hist2d_kwargs=False,top_ticks=False)\n",
    "plt.show()"
   ]
  },
  {
   "cell_type": "code",
   "execution_count": 144,
   "metadata": {},
   "outputs": [],
   "source": [
    "jh = np.array(jh)\n",
    "hk = np.array(hk)"
   ]
  },
  {
   "cell_type": "code",
   "execution_count": 191,
   "metadata": {
    "collapsed": true
   },
   "outputs": [],
   "source": [
    "hfont = {'fontname':'Times New Roman'}"
   ]
  },
  {
   "cell_type": "code",
   "execution_count": 201,
   "metadata": {},
   "outputs": [
    {
     "data": {
      "image/png": "[encoded data removed]",
      "text/plain": [
       "<matplotlib.figure.Figure at 0x12d730f98>"
      ]
     },
     "metadata": {},
     "output_type": "display_data"
    }
   ],
   "source": [
    "plt.figure(figsize=(8,8))\n",
    "corner.hist2d(hk,jh,bins=150,plot_contours=True,fill_contours=True,smooth=1.2,plot_datapoints=True)\n",
    "plt.scatter(KC_hk,KC_jh,s=2.5,color='red',label='Binaries identified in DR13')\n",
    "plt.scatter(mhk,mjh,s=2.5,color='blue',label='M-dwarfs in DR13')\n",
    "plt.xlim(-0.2,2.5)\n",
    "plt.xlabel('H - K',fontsize=18,**hfont)\n",
    "plt.ylabel('J - H',fontsize=18,**hfont)\n",
    "pl.legend(loc='lower right',fontsize=15)\n",
    "plt.savefig('2D_Hist_for_Kevin.pdf')\n",
    "#plt.savefig('2D_Hist_for_Kevin_woMD.pdf')\n",
    "plt.show()"
   ]
  },
  {
   "cell_type": "code",
   "execution_count": null,
   "metadata": {
    "collapsed": true
   },
   "outputs": [],
   "source": []
  }
 ],
 "metadata": {
  "kernelspec": {
   "display_name": "Python 3",
   "language": "python",
   "name": "python3"
  },
  "language_info": {
   "codemirror_mode": {
    "name": "ipython",
    "version": 3
   },
   "file_extension": ".py",
   "mimetype": "text/x-python",
   "name": "python",
   "nbconvert_exporter": "python",
   "pygments_lexer": "ipython3",
   "version": "3.6.1"
  }
 },
 "nbformat": 4,
 "nbformat_minor": 2
}
